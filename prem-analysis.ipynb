{
 "cells": [
  {
   "cell_type": "markdown",
   "metadata": {
    "collapsed": true
   },
   "source": [
    "# English Premiership 2014-15 Data Analysis"
   ]
  },
  {
   "cell_type": "markdown",
   "metadata": {},
   "source": [
    "This notebook demonstrates the power of [IPython Notebook](http://ipython.org/notebook.html), [python](https://www.python.org/) and [pandas](http://pandas.pydata.org/) to analyse a data set. The data set I am using is the English premiership 2014-15 football match results as of 27th April 2015."
   ]
  },
  {
   "cell_type": "markdown",
   "metadata": {},
   "source": [
    "# Set-up"
   ]
  },
  {
   "cell_type": "markdown",
   "metadata": {},
   "source": [
    "Let's import the modules we need for the analysis."
   ]
  },
  {
   "cell_type": "code",
   "execution_count": 76,
   "metadata": {
    "collapsed": true
   },
   "outputs": [],
   "source": [
    "import pandas as pd\n",
    "import matplotlib as mpl\n",
    "import matplotlib.pyplot as plt\n",
    "import sys \n",
    "from itertools import cycle\n",
    "from collections import defaultdict\n",
    "from __future__ import division\n",
    "\n",
    "# enable inline plotting\n",
    "%matplotlib inline"
   ]
  },
  {
   "cell_type": "markdown",
   "metadata": {},
   "source": [
    "Print version numbers."
   ]
  },
  {
   "cell_type": "code",
   "execution_count": 77,
   "metadata": {
    "collapsed": false
   },
   "outputs": [
    {
     "name": "stdout",
     "output_type": "stream",
     "text": [
      "python version: 2.7.8 |Anaconda 2.2.0 (64-bit)| (default, Jul  2 2014, 15:12:11) [MSC v.1500 64 bit (AMD64)]\n",
      "pandas version: 0.15.2\n",
      "matplotlib version: 1.4.3\n"
     ]
    }
   ],
   "source": [
    "print 'python version: {}'.format(sys.version)\n",
    "print 'pandas version: {}'.format(pd.__version__)\n",
    "print 'matplotlib version: {}'.format(mpl.__version__)"
   ]
  },
  {
   "cell_type": "markdown",
   "metadata": {},
   "source": [
    "# Data Load"
   ]
  },
  {
   "cell_type": "markdown",
   "metadata": {},
   "source": [
    "Let's read the premiership data. The data is downloaded from [english premiership stats](http://www.football-data.co.uk/englandm.php). Here you can find the latest premiership csv data file and the [notes](http://www.football-data.co.uk/notes.txt) file that describes the csv structure.\n",
    "\n",
    "Load the csv data file, located in the data folder, in to a pandas dataframe. **The csv file used here was downloaded on 27th April 2015.**"
   ]
  },
  {
   "cell_type": "code",
   "execution_count": 78,
   "metadata": {
    "collapsed": false
   },
   "outputs": [],
   "source": [
    "DATA_FILE = 'data/E0.csv'\n",
    "DATA_FILE_DATE = '27th April 2015'\n",
    "df = pd.read_csv(DATA_FILE)"
   ]
  },
  {
   "cell_type": "markdown",
   "metadata": {},
   "source": [
    "Check the number of rows and columns."
   ]
  },
  {
   "cell_type": "code",
   "execution_count": 79,
   "metadata": {
    "collapsed": false
   },
   "outputs": [
    {
     "name": "stdout",
     "output_type": "stream",
     "text": [
      "The dataframe has 337 rows and 65 columns.\n"
     ]
    }
   ],
   "source": [
    "r, c = df.shape\n",
    "print \"The dataframe has {} rows and {} columns.\".format(r, c)"
   ]
  },
  {
   "cell_type": "markdown",
   "metadata": {},
   "source": [
    "Let's display the first 5 rows."
   ]
  },
  {
   "cell_type": "code",
   "execution_count": 80,
   "metadata": {
    "collapsed": false
   },
   "outputs": [
    {
     "data": {
      "text/html": [
       "<div style=\"max-height:1000px;max-width:1500px;overflow:auto;\">\n",
       "<table border=\"1\" class=\"dataframe\">\n",
       "  <thead>\n",
       "    <tr style=\"text-align: right;\">\n",
       "      <th></th>\n",
       "      <th>Div</th>\n",
       "      <th>Date</th>\n",
       "      <th>HomeTeam</th>\n",
       "      <th>AwayTeam</th>\n",
       "      <th>FTHG</th>\n",
       "      <th>FTAG</th>\n",
       "      <th>FTR</th>\n",
       "      <th>HTHG</th>\n",
       "      <th>HTAG</th>\n",
       "      <th>HTR</th>\n",
       "      <th>...</th>\n",
       "      <th>BbMx&gt;2.5</th>\n",
       "      <th>BbAv&gt;2.5</th>\n",
       "      <th>BbMx&lt;2.5</th>\n",
       "      <th>BbAv&lt;2.5</th>\n",
       "      <th>BbAH</th>\n",
       "      <th>BbAHh</th>\n",
       "      <th>BbMxAHH</th>\n",
       "      <th>BbAvAHH</th>\n",
       "      <th>BbMxAHA</th>\n",
       "      <th>BbAvAHA</th>\n",
       "    </tr>\n",
       "  </thead>\n",
       "  <tbody>\n",
       "    <tr>\n",
       "      <th>0</th>\n",
       "      <td> E0</td>\n",
       "      <td> 16/08/14</td>\n",
       "      <td>    Arsenal</td>\n",
       "      <td> Crystal Palace</td>\n",
       "      <td> 2</td>\n",
       "      <td> 1</td>\n",
       "      <td> H</td>\n",
       "      <td> 1</td>\n",
       "      <td> 1</td>\n",
       "      <td> D</td>\n",
       "      <td>...</td>\n",
       "      <td> 1.77</td>\n",
       "      <td> 1.72</td>\n",
       "      <td> 2.26</td>\n",
       "      <td> 2.10</td>\n",
       "      <td> 24</td>\n",
       "      <td>-1.50</td>\n",
       "      <td> 1.81</td>\n",
       "      <td> 1.78</td>\n",
       "      <td> 2.20</td>\n",
       "      <td> 2.10</td>\n",
       "    </tr>\n",
       "    <tr>\n",
       "      <th>1</th>\n",
       "      <td> E0</td>\n",
       "      <td> 16/08/14</td>\n",
       "      <td>  Leicester</td>\n",
       "      <td>        Everton</td>\n",
       "      <td> 2</td>\n",
       "      <td> 2</td>\n",
       "      <td> D</td>\n",
       "      <td> 1</td>\n",
       "      <td> 2</td>\n",
       "      <td> A</td>\n",
       "      <td>...</td>\n",
       "      <td> 2.10</td>\n",
       "      <td> 2.00</td>\n",
       "      <td> 1.90</td>\n",
       "      <td> 1.80</td>\n",
       "      <td> 22</td>\n",
       "      <td> 0.25</td>\n",
       "      <td> 1.88</td>\n",
       "      <td> 1.85</td>\n",
       "      <td> 2.10</td>\n",
       "      <td> 2.02</td>\n",
       "    </tr>\n",
       "    <tr>\n",
       "      <th>2</th>\n",
       "      <td> E0</td>\n",
       "      <td> 16/08/14</td>\n",
       "      <td> Man United</td>\n",
       "      <td>        Swansea</td>\n",
       "      <td> 1</td>\n",
       "      <td> 2</td>\n",
       "      <td> A</td>\n",
       "      <td> 0</td>\n",
       "      <td> 1</td>\n",
       "      <td> A</td>\n",
       "      <td>...</td>\n",
       "      <td> 1.77</td>\n",
       "      <td> 1.71</td>\n",
       "      <td> 2.30</td>\n",
       "      <td> 2.13</td>\n",
       "      <td> 25</td>\n",
       "      <td>-1.50</td>\n",
       "      <td> 2.18</td>\n",
       "      <td> 2.08</td>\n",
       "      <td> 1.87</td>\n",
       "      <td> 1.79</td>\n",
       "    </tr>\n",
       "    <tr>\n",
       "      <th>3</th>\n",
       "      <td> E0</td>\n",
       "      <td> 16/08/14</td>\n",
       "      <td>        QPR</td>\n",
       "      <td>           Hull</td>\n",
       "      <td> 0</td>\n",
       "      <td> 1</td>\n",
       "      <td> A</td>\n",
       "      <td> 0</td>\n",
       "      <td> 0</td>\n",
       "      <td> D</td>\n",
       "      <td>...</td>\n",
       "      <td> 2.52</td>\n",
       "      <td> 2.36</td>\n",
       "      <td> 1.65</td>\n",
       "      <td> 1.58</td>\n",
       "      <td> 24</td>\n",
       "      <td> 0.00</td>\n",
       "      <td> 1.80</td>\n",
       "      <td> 1.73</td>\n",
       "      <td> 2.25</td>\n",
       "      <td> 2.14</td>\n",
       "    </tr>\n",
       "    <tr>\n",
       "      <th>4</th>\n",
       "      <td> E0</td>\n",
       "      <td> 16/08/14</td>\n",
       "      <td>      Stoke</td>\n",
       "      <td>    Aston Villa</td>\n",
       "      <td> 0</td>\n",
       "      <td> 1</td>\n",
       "      <td> A</td>\n",
       "      <td> 0</td>\n",
       "      <td> 0</td>\n",
       "      <td> D</td>\n",
       "      <td>...</td>\n",
       "      <td> 2.42</td>\n",
       "      <td> 2.31</td>\n",
       "      <td> 1.67</td>\n",
       "      <td> 1.60</td>\n",
       "      <td> 23</td>\n",
       "      <td>-0.50</td>\n",
       "      <td> 1.95</td>\n",
       "      <td> 1.91</td>\n",
       "      <td> 2.02</td>\n",
       "      <td> 1.96</td>\n",
       "    </tr>\n",
       "  </tbody>\n",
       "</table>\n",
       "<p>5 rows × 65 columns</p>\n",
       "</div>"
      ],
      "text/plain": [
       "  Div      Date    HomeTeam        AwayTeam  FTHG  FTAG FTR  HTHG  HTAG HTR  \\\n",
       "0  E0  16/08/14     Arsenal  Crystal Palace     2     1   H     1     1   D   \n",
       "1  E0  16/08/14   Leicester         Everton     2     2   D     1     2   A   \n",
       "2  E0  16/08/14  Man United         Swansea     1     2   A     0     1   A   \n",
       "3  E0  16/08/14         QPR            Hull     0     1   A     0     0   D   \n",
       "4  E0  16/08/14       Stoke     Aston Villa     0     1   A     0     0   D   \n",
       "\n",
       "    ...    BbMx>2.5  BbAv>2.5  BbMx<2.5  BbAv<2.5  BbAH  BbAHh  BbMxAHH  \\\n",
       "0   ...        1.77      1.72      2.26      2.10    24  -1.50     1.81   \n",
       "1   ...        2.10      2.00      1.90      1.80    22   0.25     1.88   \n",
       "2   ...        1.77      1.71      2.30      2.13    25  -1.50     2.18   \n",
       "3   ...        2.52      2.36      1.65      1.58    24   0.00     1.80   \n",
       "4   ...        2.42      2.31      1.67      1.60    23  -0.50     1.95   \n",
       "\n",
       "   BbAvAHH  BbMxAHA  BbAvAHA  \n",
       "0     1.78     2.20     2.10  \n",
       "1     1.85     2.10     2.02  \n",
       "2     2.08     1.87     1.79  \n",
       "3     1.73     2.25     2.14  \n",
       "4     1.91     2.02     1.96  \n",
       "\n",
       "[5 rows x 65 columns]"
      ]
     },
     "execution_count": 80,
     "metadata": {},
     "output_type": "execute_result"
    }
   ],
   "source": [
    "df.head()"
   ]
  },
  {
   "cell_type": "markdown",
   "metadata": {},
   "source": [
    "Let's check the columns, this should align with the csv structure mentioned earlier."
   ]
  },
  {
   "cell_type": "code",
   "execution_count": 81,
   "metadata": {
    "collapsed": false
   },
   "outputs": [
    {
     "name": "stdout",
     "output_type": "stream",
     "text": [
      "['Div' 'Date' 'HomeTeam' 'AwayTeam' 'FTHG' 'FTAG' 'FTR' 'HTHG' 'HTAG' 'HTR'\n",
      " 'Referee' 'HS' 'AS' 'HST' 'AST' 'HF' 'AF' 'HC' 'AC' 'HY' 'AY' 'HR' 'AR'\n",
      " 'B365H' 'B365D' 'B365A' 'BWH' 'BWD' 'BWA' 'IWH' 'IWD' 'IWA' 'LBH' 'LBD'\n",
      " 'LBA' 'PSH' 'PSD' 'PSA' 'WHH' 'WHD' 'WHA' 'SJH' 'SJD' 'SJA' 'VCH' 'VCD'\n",
      " 'VCA' 'Bb1X2' 'BbMxH' 'BbAvH' 'BbMxD' 'BbAvD' 'BbMxA' 'BbAvA' 'BbOU'\n",
      " 'BbMx>2.5' 'BbAv>2.5' 'BbMx<2.5' 'BbAv<2.5' 'BbAH' 'BbAHh' 'BbMxAHH'\n",
      " 'BbAvAHH' 'BbMxAHA' 'BbAvAHA']\n"
     ]
    }
   ],
   "source": [
    "print df.columns.values"
   ]
  },
  {
   "cell_type": "markdown",
   "metadata": {},
   "source": [
    "# Data Cleanse"
   ]
  },
  {
   "cell_type": "markdown",
   "metadata": {},
   "source": [
    "As you can see from the notes file, and the list of column names, the csv contains lots of betting data - starting at 'B365H'; I'm not interested in the betting data so let's drop these columns."
   ]
  },
  {
   "cell_type": "code",
   "execution_count": 82,
   "metadata": {
    "collapsed": false
   },
   "outputs": [],
   "source": [
    "betting_cols_to_drop = range(df.columns.get_loc('B365H'), df.columns.size)\n",
    "df.drop(df.columns[[betting_cols_to_drop]], inplace=True, axis=1)"
   ]
  },
  {
   "cell_type": "markdown",
   "metadata": {},
   "source": [
    "There are a few other columns I'm not interested in, so let's also drop them."
   ]
  },
  {
   "cell_type": "code",
   "execution_count": 83,
   "metadata": {
    "collapsed": false
   },
   "outputs": [],
   "source": [
    "other_cols_to_drop = ['Div', 'HTR', 'HF', 'AF', 'HC','AC', 'HY', 'AY']\n",
    "df.drop(other_cols_to_drop, inplace=True, axis=1)"
   ]
  },
  {
   "cell_type": "markdown",
   "metadata": {},
   "source": [
    "Let's show the new shape and column names."
   ]
  },
  {
   "cell_type": "code",
   "execution_count": 84,
   "metadata": {
    "collapsed": false
   },
   "outputs": [
    {
     "name": "stdout",
     "output_type": "stream",
     "text": [
      "Shape of data set is: (337, 15)\n",
      "Column names are: ['Date', 'HomeTeam', 'AwayTeam', 'FTHG', 'FTAG', 'FTR', 'HTHG', 'HTAG', 'Referee', 'HS', 'AS', 'HST', 'AST', 'HR', 'AR']\n"
     ]
    },
    {
     "data": {
      "text/html": [
       "<div style=\"max-height:1000px;max-width:1500px;overflow:auto;\">\n",
       "<table border=\"1\" class=\"dataframe\">\n",
       "  <thead>\n",
       "    <tr style=\"text-align: right;\">\n",
       "      <th></th>\n",
       "      <th>Date</th>\n",
       "      <th>HomeTeam</th>\n",
       "      <th>AwayTeam</th>\n",
       "      <th>FTHG</th>\n",
       "      <th>FTAG</th>\n",
       "      <th>FTR</th>\n",
       "      <th>HTHG</th>\n",
       "      <th>HTAG</th>\n",
       "      <th>Referee</th>\n",
       "      <th>HS</th>\n",
       "      <th>AS</th>\n",
       "      <th>HST</th>\n",
       "      <th>AST</th>\n",
       "      <th>HR</th>\n",
       "      <th>AR</th>\n",
       "    </tr>\n",
       "  </thead>\n",
       "  <tbody>\n",
       "    <tr>\n",
       "      <th>0</th>\n",
       "      <td> 16/08/14</td>\n",
       "      <td>    Arsenal</td>\n",
       "      <td> Crystal Palace</td>\n",
       "      <td> 2</td>\n",
       "      <td> 1</td>\n",
       "      <td> H</td>\n",
       "      <td> 1</td>\n",
       "      <td> 1</td>\n",
       "      <td>   J Moss</td>\n",
       "      <td> 14</td>\n",
       "      <td>  4</td>\n",
       "      <td> 6</td>\n",
       "      <td> 2</td>\n",
       "      <td> 0</td>\n",
       "      <td> 1</td>\n",
       "    </tr>\n",
       "    <tr>\n",
       "      <th>1</th>\n",
       "      <td> 16/08/14</td>\n",
       "      <td>  Leicester</td>\n",
       "      <td>        Everton</td>\n",
       "      <td> 2</td>\n",
       "      <td> 2</td>\n",
       "      <td> D</td>\n",
       "      <td> 1</td>\n",
       "      <td> 2</td>\n",
       "      <td>  M Jones</td>\n",
       "      <td> 11</td>\n",
       "      <td> 13</td>\n",
       "      <td> 3</td>\n",
       "      <td> 3</td>\n",
       "      <td> 0</td>\n",
       "      <td> 0</td>\n",
       "    </tr>\n",
       "    <tr>\n",
       "      <th>2</th>\n",
       "      <td> 16/08/14</td>\n",
       "      <td> Man United</td>\n",
       "      <td>        Swansea</td>\n",
       "      <td> 1</td>\n",
       "      <td> 2</td>\n",
       "      <td> A</td>\n",
       "      <td> 0</td>\n",
       "      <td> 1</td>\n",
       "      <td>   M Dean</td>\n",
       "      <td> 14</td>\n",
       "      <td>  5</td>\n",
       "      <td> 5</td>\n",
       "      <td> 4</td>\n",
       "      <td> 0</td>\n",
       "      <td> 0</td>\n",
       "    </tr>\n",
       "    <tr>\n",
       "      <th>3</th>\n",
       "      <td> 16/08/14</td>\n",
       "      <td>        QPR</td>\n",
       "      <td>           Hull</td>\n",
       "      <td> 0</td>\n",
       "      <td> 1</td>\n",
       "      <td> A</td>\n",
       "      <td> 0</td>\n",
       "      <td> 0</td>\n",
       "      <td> C Pawson</td>\n",
       "      <td> 19</td>\n",
       "      <td> 11</td>\n",
       "      <td> 6</td>\n",
       "      <td> 4</td>\n",
       "      <td> 0</td>\n",
       "      <td> 0</td>\n",
       "    </tr>\n",
       "    <tr>\n",
       "      <th>4</th>\n",
       "      <td> 16/08/14</td>\n",
       "      <td>      Stoke</td>\n",
       "      <td>    Aston Villa</td>\n",
       "      <td> 0</td>\n",
       "      <td> 1</td>\n",
       "      <td> A</td>\n",
       "      <td> 0</td>\n",
       "      <td> 0</td>\n",
       "      <td> A Taylor</td>\n",
       "      <td> 12</td>\n",
       "      <td>  7</td>\n",
       "      <td> 2</td>\n",
       "      <td> 2</td>\n",
       "      <td> 0</td>\n",
       "      <td> 0</td>\n",
       "    </tr>\n",
       "  </tbody>\n",
       "</table>\n",
       "</div>"
      ],
      "text/plain": [
       "       Date    HomeTeam        AwayTeam  FTHG  FTAG FTR  HTHG  HTAG   Referee  \\\n",
       "0  16/08/14     Arsenal  Crystal Palace     2     1   H     1     1    J Moss   \n",
       "1  16/08/14   Leicester         Everton     2     2   D     1     2   M Jones   \n",
       "2  16/08/14  Man United         Swansea     1     2   A     0     1    M Dean   \n",
       "3  16/08/14         QPR            Hull     0     1   A     0     0  C Pawson   \n",
       "4  16/08/14       Stoke     Aston Villa     0     1   A     0     0  A Taylor   \n",
       "\n",
       "   HS  AS  HST  AST  HR  AR  \n",
       "0  14   4    6    2   0   1  \n",
       "1  11  13    3    3   0   0  \n",
       "2  14   5    5    4   0   0  \n",
       "3  19  11    6    4   0   0  \n",
       "4  12   7    2    2   0   0  "
      ]
     },
     "execution_count": 84,
     "metadata": {},
     "output_type": "execute_result"
    }
   ],
   "source": [
    "print 'Shape of data set is: {}'.format(df.shape)\n",
    "print 'Column names are: {}'.format(list(df.columns))\n",
    "df.head()"
   ]
  },
  {
   "cell_type": "markdown",
   "metadata": {},
   "source": [
    "As you can see the dataframe now has 337 rows and 15 columns. Let's describe the data. "
   ]
  },
  {
   "cell_type": "code",
   "execution_count": 85,
   "metadata": {
    "collapsed": false
   },
   "outputs": [
    {
     "data": {
      "text/html": [
       "<div style=\"max-height:1000px;max-width:1500px;overflow:auto;\">\n",
       "<table border=\"1\" class=\"dataframe\">\n",
       "  <thead>\n",
       "    <tr style=\"text-align: right;\">\n",
       "      <th></th>\n",
       "      <th>FTHG</th>\n",
       "      <th>FTAG</th>\n",
       "      <th>HTHG</th>\n",
       "      <th>HTAG</th>\n",
       "      <th>HS</th>\n",
       "      <th>AS</th>\n",
       "      <th>HST</th>\n",
       "      <th>AST</th>\n",
       "      <th>HR</th>\n",
       "      <th>AR</th>\n",
       "    </tr>\n",
       "  </thead>\n",
       "  <tbody>\n",
       "    <tr>\n",
       "      <th>count</th>\n",
       "      <td> 337.000000</td>\n",
       "      <td> 337.000000</td>\n",
       "      <td> 337.000000</td>\n",
       "      <td> 337.000000</td>\n",
       "      <td> 337.000000</td>\n",
       "      <td> 337.000000</td>\n",
       "      <td> 337.000000</td>\n",
       "      <td> 337.000000</td>\n",
       "      <td> 337.000000</td>\n",
       "      <td> 337.000000</td>\n",
       "    </tr>\n",
       "    <tr>\n",
       "      <th>mean</th>\n",
       "      <td>   1.445104</td>\n",
       "      <td>   1.118694</td>\n",
       "      <td>   0.700297</td>\n",
       "      <td>   0.501484</td>\n",
       "      <td>  14.442136</td>\n",
       "      <td>  11.272997</td>\n",
       "      <td>   4.605341</td>\n",
       "      <td>   3.682493</td>\n",
       "      <td>   0.080119</td>\n",
       "      <td>   0.106825</td>\n",
       "    </tr>\n",
       "    <tr>\n",
       "      <th>std</th>\n",
       "      <td>   1.199249</td>\n",
       "      <td>   1.076331</td>\n",
       "      <td>   0.795691</td>\n",
       "      <td>   0.711825</td>\n",
       "      <td>   5.441004</td>\n",
       "      <td>   4.578965</td>\n",
       "      <td>   2.436400</td>\n",
       "      <td>   1.999276</td>\n",
       "      <td>   0.271881</td>\n",
       "      <td>   0.309350</td>\n",
       "    </tr>\n",
       "    <tr>\n",
       "      <th>min</th>\n",
       "      <td>   0.000000</td>\n",
       "      <td>   0.000000</td>\n",
       "      <td>   0.000000</td>\n",
       "      <td>   0.000000</td>\n",
       "      <td>   3.000000</td>\n",
       "      <td>   1.000000</td>\n",
       "      <td>   0.000000</td>\n",
       "      <td>   0.000000</td>\n",
       "      <td>   0.000000</td>\n",
       "      <td>   0.000000</td>\n",
       "    </tr>\n",
       "    <tr>\n",
       "      <th>25%</th>\n",
       "      <td>   1.000000</td>\n",
       "      <td>   0.000000</td>\n",
       "      <td>   0.000000</td>\n",
       "      <td>   0.000000</td>\n",
       "      <td>  11.000000</td>\n",
       "      <td>   8.000000</td>\n",
       "      <td>   3.000000</td>\n",
       "      <td>   2.000000</td>\n",
       "      <td>   0.000000</td>\n",
       "      <td>   0.000000</td>\n",
       "    </tr>\n",
       "    <tr>\n",
       "      <th>50%</th>\n",
       "      <td>   1.000000</td>\n",
       "      <td>   1.000000</td>\n",
       "      <td>   1.000000</td>\n",
       "      <td>   0.000000</td>\n",
       "      <td>  14.000000</td>\n",
       "      <td>  11.000000</td>\n",
       "      <td>   4.000000</td>\n",
       "      <td>   4.000000</td>\n",
       "      <td>   0.000000</td>\n",
       "      <td>   0.000000</td>\n",
       "    </tr>\n",
       "    <tr>\n",
       "      <th>75%</th>\n",
       "      <td>   2.000000</td>\n",
       "      <td>   2.000000</td>\n",
       "      <td>   1.000000</td>\n",
       "      <td>   1.000000</td>\n",
       "      <td>  18.000000</td>\n",
       "      <td>  14.000000</td>\n",
       "      <td>   6.000000</td>\n",
       "      <td>   5.000000</td>\n",
       "      <td>   0.000000</td>\n",
       "      <td>   0.000000</td>\n",
       "    </tr>\n",
       "    <tr>\n",
       "      <th>max</th>\n",
       "      <td>   8.000000</td>\n",
       "      <td>   6.000000</td>\n",
       "      <td>   3.000000</td>\n",
       "      <td>   4.000000</td>\n",
       "      <td>  43.000000</td>\n",
       "      <td>  27.000000</td>\n",
       "      <td>  16.000000</td>\n",
       "      <td>  11.000000</td>\n",
       "      <td>   1.000000</td>\n",
       "      <td>   1.000000</td>\n",
       "    </tr>\n",
       "  </tbody>\n",
       "</table>\n",
       "</div>"
      ],
      "text/plain": [
       "             FTHG        FTAG        HTHG        HTAG          HS          AS  \\\n",
       "count  337.000000  337.000000  337.000000  337.000000  337.000000  337.000000   \n",
       "mean     1.445104    1.118694    0.700297    0.501484   14.442136   11.272997   \n",
       "std      1.199249    1.076331    0.795691    0.711825    5.441004    4.578965   \n",
       "min      0.000000    0.000000    0.000000    0.000000    3.000000    1.000000   \n",
       "25%      1.000000    0.000000    0.000000    0.000000   11.000000    8.000000   \n",
       "50%      1.000000    1.000000    1.000000    0.000000   14.000000   11.000000   \n",
       "75%      2.000000    2.000000    1.000000    1.000000   18.000000   14.000000   \n",
       "max      8.000000    6.000000    3.000000    4.000000   43.000000   27.000000   \n",
       "\n",
       "              HST         AST          HR          AR  \n",
       "count  337.000000  337.000000  337.000000  337.000000  \n",
       "mean     4.605341    3.682493    0.080119    0.106825  \n",
       "std      2.436400    1.999276    0.271881    0.309350  \n",
       "min      0.000000    0.000000    0.000000    0.000000  \n",
       "25%      3.000000    2.000000    0.000000    0.000000  \n",
       "50%      4.000000    4.000000    0.000000    0.000000  \n",
       "75%      6.000000    5.000000    0.000000    0.000000  \n",
       "max     16.000000   11.000000    1.000000    1.000000  "
      ]
     },
     "execution_count": 85,
     "metadata": {},
     "output_type": "execute_result"
    }
   ],
   "source": [
    "df.describe()"
   ]
  },
  {
   "cell_type": "markdown",
   "metadata": {},
   "source": [
    "This provides a useful data summary of the numeric data."
   ]
  },
  {
   "cell_type": "markdown",
   "metadata": {},
   "source": [
    "# Data Analysis"
   ]
  },
  {
   "cell_type": "markdown",
   "metadata": {},
   "source": [
    "ok, let's now analyse the data... Think of a question and produce the answer!"
   ]
  },
  {
   "cell_type": "markdown",
   "metadata": {},
   "source": [
    "## Which HomeTeam scored the most goals in a match?"
   ]
  },
  {
   "cell_type": "markdown",
   "metadata": {},
   "source": [
    "We can see from the describe() above that the max FTHG is 8. Let's find out which team did this."
   ]
  },
  {
   "cell_type": "code",
   "execution_count": 86,
   "metadata": {
    "collapsed": false
   },
   "outputs": [
    {
     "data": {
      "text/html": [
       "<div style=\"max-height:1000px;max-width:1500px;overflow:auto;\">\n",
       "<table border=\"1\" class=\"dataframe\">\n",
       "  <thead>\n",
       "    <tr style=\"text-align: right;\">\n",
       "      <th></th>\n",
       "      <th>Date</th>\n",
       "      <th>HomeTeam</th>\n",
       "      <th>AwayTeam</th>\n",
       "      <th>FTHG</th>\n",
       "      <th>FTAG</th>\n",
       "      <th>FTR</th>\n",
       "      <th>HTHG</th>\n",
       "      <th>HTAG</th>\n",
       "      <th>Referee</th>\n",
       "      <th>HS</th>\n",
       "      <th>AS</th>\n",
       "      <th>HST</th>\n",
       "      <th>AST</th>\n",
       "      <th>HR</th>\n",
       "      <th>AR</th>\n",
       "    </tr>\n",
       "  </thead>\n",
       "  <tbody>\n",
       "    <tr>\n",
       "      <th>76</th>\n",
       "      <td> 18/10/14</td>\n",
       "      <td> Southampton</td>\n",
       "      <td> Sunderland</td>\n",
       "      <td> 8</td>\n",
       "      <td> 0</td>\n",
       "      <td> H</td>\n",
       "      <td> 3</td>\n",
       "      <td> 0</td>\n",
       "      <td> A Marriner</td>\n",
       "      <td> 20</td>\n",
       "      <td> 12</td>\n",
       "      <td> 11</td>\n",
       "      <td> 1</td>\n",
       "      <td> 0</td>\n",
       "      <td> 0</td>\n",
       "    </tr>\n",
       "  </tbody>\n",
       "</table>\n",
       "</div>"
      ],
      "text/plain": [
       "        Date     HomeTeam    AwayTeam  FTHG  FTAG FTR  HTHG  HTAG     Referee  \\\n",
       "76  18/10/14  Southampton  Sunderland     8     0   H     3     0  A Marriner   \n",
       "\n",
       "    HS  AS  HST  AST  HR  AR  \n",
       "76  20  12   11    1   0   0  "
      ]
     },
     "execution_count": 86,
     "metadata": {},
     "output_type": "execute_result"
    }
   ],
   "source": [
    "df[df['FTHG'] == df['FTHG'].max()]"
   ]
  },
  {
   "cell_type": "markdown",
   "metadata": {},
   "source": [
    "Ok, I remember that. One of the very poor Sunderland results that eventually led to Gus Poyet's demise."
   ]
  },
  {
   "cell_type": "markdown",
   "metadata": {},
   "source": [
    "## Which AwayTeam scored the most goals in a match?"
   ]
  },
  {
   "cell_type": "code",
   "execution_count": 87,
   "metadata": {
    "collapsed": false
   },
   "outputs": [
    {
     "data": {
      "text/html": [
       "<div style=\"max-height:1000px;max-width:1500px;overflow:auto;\">\n",
       "<table border=\"1\" class=\"dataframe\">\n",
       "  <thead>\n",
       "    <tr style=\"text-align: right;\">\n",
       "      <th></th>\n",
       "      <th>Date</th>\n",
       "      <th>HomeTeam</th>\n",
       "      <th>AwayTeam</th>\n",
       "      <th>FTHG</th>\n",
       "      <th>FTAG</th>\n",
       "      <th>FTR</th>\n",
       "      <th>HTHG</th>\n",
       "      <th>HTAG</th>\n",
       "      <th>Referee</th>\n",
       "      <th>HS</th>\n",
       "      <th>AS</th>\n",
       "      <th>HST</th>\n",
       "      <th>AST</th>\n",
       "      <th>HR</th>\n",
       "      <th>AR</th>\n",
       "    </tr>\n",
       "  </thead>\n",
       "  <tbody>\n",
       "    <tr>\n",
       "      <th>21</th>\n",
       "      <td> 30/08/14</td>\n",
       "      <td> Everton</td>\n",
       "      <td> Chelsea</td>\n",
       "      <td> 3</td>\n",
       "      <td> 6</td>\n",
       "      <td> A</td>\n",
       "      <td> 1</td>\n",
       "      <td> 2</td>\n",
       "      <td> J Moss</td>\n",
       "      <td> 17</td>\n",
       "      <td> 12</td>\n",
       "      <td> 7</td>\n",
       "      <td> 8</td>\n",
       "      <td> 0</td>\n",
       "      <td> 0</td>\n",
       "    </tr>\n",
       "  </tbody>\n",
       "</table>\n",
       "</div>"
      ],
      "text/plain": [
       "        Date HomeTeam AwayTeam  FTHG  FTAG FTR  HTHG  HTAG Referee  HS  AS  \\\n",
       "21  30/08/14  Everton  Chelsea     3     6   A     1     2  J Moss  17  12   \n",
       "\n",
       "    HST  AST  HR  AR  \n",
       "21    7    8   0   0  "
      ]
     },
     "execution_count": 87,
     "metadata": {},
     "output_type": "execute_result"
    }
   ],
   "source": [
    "df[df['FTAG'] == df['FTAG'].max()]"
   ]
  },
  {
   "cell_type": "markdown",
   "metadata": {},
   "source": [
    "And the best away performance belongs to Chelsea. Part of their impressive start to the season."
   ]
  },
  {
   "cell_type": "markdown",
   "metadata": {},
   "source": [
    "## Which HomeTeam had the most shots in a match?"
   ]
  },
  {
   "cell_type": "code",
   "execution_count": 88,
   "metadata": {
    "collapsed": false
   },
   "outputs": [
    {
     "data": {
      "text/html": [
       "<div style=\"max-height:1000px;max-width:1500px;overflow:auto;\">\n",
       "<table border=\"1\" class=\"dataframe\">\n",
       "  <thead>\n",
       "    <tr style=\"text-align: right;\">\n",
       "      <th></th>\n",
       "      <th>Date</th>\n",
       "      <th>HomeTeam</th>\n",
       "      <th>AwayTeam</th>\n",
       "      <th>FTHG</th>\n",
       "      <th>FTAG</th>\n",
       "      <th>FTR</th>\n",
       "      <th>HTHG</th>\n",
       "      <th>HTAG</th>\n",
       "      <th>Referee</th>\n",
       "      <th>HS</th>\n",
       "      <th>AS</th>\n",
       "      <th>HST</th>\n",
       "      <th>AST</th>\n",
       "      <th>HR</th>\n",
       "      <th>AR</th>\n",
       "    </tr>\n",
       "  </thead>\n",
       "  <tbody>\n",
       "    <tr>\n",
       "      <th>290</th>\n",
       "      <td> 21/03/15</td>\n",
       "      <td> Man City</td>\n",
       "      <td> West Brom</td>\n",
       "      <td> 3</td>\n",
       "      <td> 0</td>\n",
       "      <td> H</td>\n",
       "      <td> 2</td>\n",
       "      <td> 0</td>\n",
       "      <td> N Swarbrick</td>\n",
       "      <td> 43</td>\n",
       "      <td> 3</td>\n",
       "      <td> 16</td>\n",
       "      <td> 0</td>\n",
       "      <td> 0</td>\n",
       "      <td> 1</td>\n",
       "    </tr>\n",
       "  </tbody>\n",
       "</table>\n",
       "</div>"
      ],
      "text/plain": [
       "         Date  HomeTeam   AwayTeam  FTHG  FTAG FTR  HTHG  HTAG      Referee  \\\n",
       "290  21/03/15  Man City  West Brom     3     0   H     2     0  N Swarbrick   \n",
       "\n",
       "     HS  AS  HST  AST  HR  AR  \n",
       "290  43   3   16    0   0   1  "
      ]
     },
     "execution_count": 88,
     "metadata": {},
     "output_type": "execute_result"
    }
   ],
   "source": [
    "df[df['HS'] == df['HS'].max()]"
   ]
  },
  {
   "cell_type": "markdown",
   "metadata": {},
   "source": [
    "Man City had an incredible 43 shots, with 16 on target. West Brom didn't manage 1 shot! That's very low even for a 'well disciplined' Tony Pulis team. However, you can also see that West Brom were given a red card. The [match report](http://www.whoscored.com/Matches/829796/MatchReport) says Gareth McAuley was sent off in the 2nd minute. "
   ]
  },
  {
   "cell_type": "markdown",
   "metadata": {},
   "source": [
    "## Which HomeTeam had the most shots in a match with no red cards?"
   ]
  },
  {
   "cell_type": "markdown",
   "metadata": {},
   "source": [
    "Let's exclude matches with red cards and then find who had the most shots at home."
   ]
  },
  {
   "cell_type": "code",
   "execution_count": 89,
   "metadata": {
    "collapsed": false
   },
   "outputs": [
    {
     "data": {
      "text/plain": [
       "(278, 15)"
      ]
     },
     "execution_count": 89,
     "metadata": {},
     "output_type": "execute_result"
    }
   ],
   "source": [
    "df_no_reds = df[(df['HR'] == 0) & (df['AR'] == 0)]\n",
    "df_no_reds.shape"
   ]
  },
  {
   "cell_type": "code",
   "execution_count": 90,
   "metadata": {
    "collapsed": false
   },
   "outputs": [
    {
     "data": {
      "text/html": [
       "<div style=\"max-height:1000px;max-width:1500px;overflow:auto;\">\n",
       "<table border=\"1\" class=\"dataframe\">\n",
       "  <thead>\n",
       "    <tr style=\"text-align: right;\">\n",
       "      <th></th>\n",
       "      <th>Date</th>\n",
       "      <th>HomeTeam</th>\n",
       "      <th>AwayTeam</th>\n",
       "      <th>FTHG</th>\n",
       "      <th>FTAG</th>\n",
       "      <th>FTR</th>\n",
       "      <th>HTHG</th>\n",
       "      <th>HTAG</th>\n",
       "      <th>Referee</th>\n",
       "      <th>HS</th>\n",
       "      <th>AS</th>\n",
       "      <th>HST</th>\n",
       "      <th>AST</th>\n",
       "      <th>HR</th>\n",
       "      <th>AR</th>\n",
       "    </tr>\n",
       "  </thead>\n",
       "  <tbody>\n",
       "    <tr>\n",
       "      <th>90 </th>\n",
       "      <td> 01/11/14</td>\n",
       "      <td>  Arsenal</td>\n",
       "      <td>    Burnley</td>\n",
       "      <td> 3</td>\n",
       "      <td> 0</td>\n",
       "      <td> H</td>\n",
       "      <td> 0</td>\n",
       "      <td> 0</td>\n",
       "      <td> C Pawson</td>\n",
       "      <td> 32</td>\n",
       "      <td>  6</td>\n",
       "      <td> 13</td>\n",
       "      <td> 2</td>\n",
       "      <td> 0</td>\n",
       "      <td> 0</td>\n",
       "    </tr>\n",
       "    <tr>\n",
       "      <th>123</th>\n",
       "      <td> 29/11/14</td>\n",
       "      <td>      QPR</td>\n",
       "      <td>  Leicester</td>\n",
       "      <td> 3</td>\n",
       "      <td> 2</td>\n",
       "      <td> H</td>\n",
       "      <td> 2</td>\n",
       "      <td> 1</td>\n",
       "      <td>   R East</td>\n",
       "      <td> 32</td>\n",
       "      <td> 19</td>\n",
       "      <td>  6</td>\n",
       "      <td> 5</td>\n",
       "      <td> 0</td>\n",
       "      <td> 0</td>\n",
       "    </tr>\n",
       "    <tr>\n",
       "      <th>193</th>\n",
       "      <td> 01/01/15</td>\n",
       "      <td> Man City</td>\n",
       "      <td> Sunderland</td>\n",
       "      <td> 3</td>\n",
       "      <td> 2</td>\n",
       "      <td> H</td>\n",
       "      <td> 0</td>\n",
       "      <td> 0</td>\n",
       "      <td>   R East</td>\n",
       "      <td> 32</td>\n",
       "      <td>  4</td>\n",
       "      <td> 12</td>\n",
       "      <td> 4</td>\n",
       "      <td> 0</td>\n",
       "      <td> 0</td>\n",
       "    </tr>\n",
       "  </tbody>\n",
       "</table>\n",
       "</div>"
      ],
      "text/plain": [
       "         Date  HomeTeam    AwayTeam  FTHG  FTAG FTR  HTHG  HTAG   Referee  HS  \\\n",
       "90   01/11/14   Arsenal     Burnley     3     0   H     0     0  C Pawson  32   \n",
       "123  29/11/14       QPR   Leicester     3     2   H     2     1    R East  32   \n",
       "193  01/01/15  Man City  Sunderland     3     2   H     0     0    R East  32   \n",
       "\n",
       "     AS  HST  AST  HR  AR  \n",
       "90    6   13    2   0   0  \n",
       "123  19    6    5   0   0  \n",
       "193   4   12    4   0   0  "
      ]
     },
     "execution_count": 90,
     "metadata": {},
     "output_type": "execute_result"
    }
   ],
   "source": [
    "df_no_reds[df_no_reds['HS'] == df_no_reds['HS'].max()]"
   ]
  },
  {
   "cell_type": "markdown",
   "metadata": {},
   "source": [
    "There are 3 home teams that share the top spot with 32 shots. And Sunderland are on the receiving end again!"
   ]
  },
  {
   "cell_type": "markdown",
   "metadata": {},
   "source": [
    "## Which AwayTeam had the most shots in a match?"
   ]
  },
  {
   "cell_type": "code",
   "execution_count": 91,
   "metadata": {
    "collapsed": false
   },
   "outputs": [
    {
     "data": {
      "text/html": [
       "<div style=\"max-height:1000px;max-width:1500px;overflow:auto;\">\n",
       "<table border=\"1\" class=\"dataframe\">\n",
       "  <thead>\n",
       "    <tr style=\"text-align: right;\">\n",
       "      <th></th>\n",
       "      <th>Date</th>\n",
       "      <th>HomeTeam</th>\n",
       "      <th>AwayTeam</th>\n",
       "      <th>FTHG</th>\n",
       "      <th>FTAG</th>\n",
       "      <th>FTR</th>\n",
       "      <th>HTHG</th>\n",
       "      <th>HTAG</th>\n",
       "      <th>Referee</th>\n",
       "      <th>HS</th>\n",
       "      <th>AS</th>\n",
       "      <th>HST</th>\n",
       "      <th>AST</th>\n",
       "      <th>HR</th>\n",
       "      <th>AR</th>\n",
       "    </tr>\n",
       "  </thead>\n",
       "  <tbody>\n",
       "    <tr>\n",
       "      <th>60</th>\n",
       "      <td> 04/10/14</td>\n",
       "      <td> Aston Villa</td>\n",
       "      <td> Man City</td>\n",
       "      <td> 0</td>\n",
       "      <td> 2</td>\n",
       "      <td> A</td>\n",
       "      <td> 0</td>\n",
       "      <td> 0</td>\n",
       "      <td> C Foy</td>\n",
       "      <td> 6</td>\n",
       "      <td> 27</td>\n",
       "      <td> 1</td>\n",
       "      <td> 7</td>\n",
       "      <td> 0</td>\n",
       "      <td> 0</td>\n",
       "    </tr>\n",
       "  </tbody>\n",
       "</table>\n",
       "</div>"
      ],
      "text/plain": [
       "        Date     HomeTeam  AwayTeam  FTHG  FTAG FTR  HTHG  HTAG Referee  HS  \\\n",
       "60  04/10/14  Aston Villa  Man City     0     2   A     0     0   C Foy   6   \n",
       "\n",
       "    AS  HST  AST  HR  AR  \n",
       "60  27    1    7   0   0  "
      ]
     },
     "execution_count": 91,
     "metadata": {},
     "output_type": "execute_result"
    }
   ],
   "source": [
    "df[df['AS'] == df['AS'].max()]"
   ]
  },
  {
   "cell_type": "markdown",
   "metadata": {},
   "source": [
    "Man City take top spot again with 27 shots, 7 on target."
   ]
  },
  {
   "cell_type": "markdown",
   "metadata": {},
   "source": [
    "## Which team has scored the most goals and which has had most shots (home and away)?"
   ]
  },
  {
   "cell_type": "markdown",
   "metadata": {},
   "source": [
    "Let's build a new dataframe giving the total goals and shots for each team."
   ]
  },
  {
   "cell_type": "code",
   "execution_count": 92,
   "metadata": {
    "collapsed": false
   },
   "outputs": [],
   "source": [
    "team_goals = defaultdict(int)\n",
    "team_shots = defaultdict(int)\n",
    "team_goal_diff = defaultdict(int)\n",
    "team_goals_shots = {}\n",
    "for HomeTeam, AwayTeam, FTHG, FTAG, HS, AS in df[['HomeTeam', 'AwayTeam', 'FTHG', 'FTAG', 'HS', 'AS']].values:\n",
    "    team_goals[HomeTeam] += FTHG\n",
    "    team_goals[AwayTeam] += FTAG\n",
    "    team_shots[HomeTeam] += HS\n",
    "    team_shots[AwayTeam] += AS\n",
    "    team_goal_diff[HomeTeam] += (FTHG-FTAG)\n",
    "    team_goal_diff[AwayTeam] += (FTAG-FTHG)\n",
    "df_team_goals = pd.DataFrame(team_goals.items(), columns=['Team', 'Goals'])\n",
    "df_team_shots = pd.DataFrame(team_shots.items(), columns=['Team', 'Shots'])\n",
    "df_team_goal_diff = pd.DataFrame(team_goal_diff.items(), columns=['Team', 'GoalDiff'])"
   ]
  },
  {
   "cell_type": "markdown",
   "metadata": {},
   "source": [
    "Let's check the high goal scorers."
   ]
  },
  {
   "cell_type": "code",
   "execution_count": 93,
   "metadata": {
    "collapsed": false
   },
   "outputs": [
    {
     "data": {
      "text/html": [
       "<div style=\"max-height:1000px;max-width:1500px;overflow:auto;\">\n",
       "<table border=\"1\" class=\"dataframe\">\n",
       "  <thead>\n",
       "    <tr style=\"text-align: right;\">\n",
       "      <th></th>\n",
       "      <th>Team</th>\n",
       "      <th>Goals</th>\n",
       "    </tr>\n",
       "  </thead>\n",
       "  <tbody>\n",
       "    <tr>\n",
       "      <th>0</th>\n",
       "      <td>   Man City</td>\n",
       "      <td> 70</td>\n",
       "    </tr>\n",
       "    <tr>\n",
       "      <th>1</th>\n",
       "      <td>    Chelsea</td>\n",
       "      <td> 65</td>\n",
       "    </tr>\n",
       "    <tr>\n",
       "      <th>2</th>\n",
       "      <td>    Arsenal</td>\n",
       "      <td> 63</td>\n",
       "    </tr>\n",
       "    <tr>\n",
       "      <th>3</th>\n",
       "      <td> Man United</td>\n",
       "      <td> 59</td>\n",
       "    </tr>\n",
       "    <tr>\n",
       "      <th>4</th>\n",
       "      <td>  Tottenham</td>\n",
       "      <td> 55</td>\n",
       "    </tr>\n",
       "  </tbody>\n",
       "</table>\n",
       "</div>"
      ],
      "text/plain": [
       "         Team  Goals\n",
       "0    Man City     70\n",
       "1     Chelsea     65\n",
       "2     Arsenal     63\n",
       "3  Man United     59\n",
       "4   Tottenham     55"
      ]
     },
     "execution_count": 93,
     "metadata": {},
     "output_type": "execute_result"
    }
   ],
   "source": [
    "df_team_goals.sort(columns='Goals', ascending=False, inplace=True)\n",
    "df_team_goals.reset_index(inplace=True, drop=True)\n",
    "df_team_goals.head()"
   ]
  },
  {
   "cell_type": "markdown",
   "metadata": {},
   "source": [
    "Man City have scored the most goals. This metric predicts the *current* top 4 teams, though the order isn't correct."
   ]
  },
  {
   "cell_type": "markdown",
   "metadata": {},
   "source": [
    "And the low goal scorers."
   ]
  },
  {
   "cell_type": "code",
   "execution_count": 94,
   "metadata": {
    "collapsed": false
   },
   "outputs": [
    {
     "data": {
      "text/html": [
       "<div style=\"max-height:1000px;max-width:1500px;overflow:auto;\">\n",
       "<table border=\"1\" class=\"dataframe\">\n",
       "  <thead>\n",
       "    <tr style=\"text-align: right;\">\n",
       "      <th></th>\n",
       "      <th>Team</th>\n",
       "      <th>Goals</th>\n",
       "    </tr>\n",
       "  </thead>\n",
       "  <tbody>\n",
       "    <tr>\n",
       "      <th>15</th>\n",
       "      <td>   West Brom</td>\n",
       "      <td> 32</td>\n",
       "    </tr>\n",
       "    <tr>\n",
       "      <th>16</th>\n",
       "      <td>        Hull</td>\n",
       "      <td> 31</td>\n",
       "    </tr>\n",
       "    <tr>\n",
       "      <th>17</th>\n",
       "      <td> Aston Villa</td>\n",
       "      <td> 26</td>\n",
       "    </tr>\n",
       "    <tr>\n",
       "      <th>18</th>\n",
       "      <td>  Sunderland</td>\n",
       "      <td> 26</td>\n",
       "    </tr>\n",
       "    <tr>\n",
       "      <th>19</th>\n",
       "      <td>     Burnley</td>\n",
       "      <td> 26</td>\n",
       "    </tr>\n",
       "  </tbody>\n",
       "</table>\n",
       "</div>"
      ],
      "text/plain": [
       "           Team  Goals\n",
       "15    West Brom     32\n",
       "16         Hull     31\n",
       "17  Aston Villa     26\n",
       "18   Sunderland     26\n",
       "19      Burnley     26"
      ]
     },
     "execution_count": 94,
     "metadata": {},
     "output_type": "execute_result"
    }
   ],
   "source": [
    "df_team_goals.tail()"
   ]
  },
  {
   "cell_type": "markdown",
   "metadata": {},
   "source": [
    "Aston Villa's recent revival under Tim Sherwood has improved their position, now they share the bottom with Burnley and Sunderland."
   ]
  },
  {
   "cell_type": "markdown",
   "metadata": {},
   "source": [
    "Now let's check the top shots."
   ]
  },
  {
   "cell_type": "code",
   "execution_count": 95,
   "metadata": {
    "collapsed": false
   },
   "outputs": [
    {
     "data": {
      "text/html": [
       "<div style=\"max-height:1000px;max-width:1500px;overflow:auto;\">\n",
       "<table border=\"1\" class=\"dataframe\">\n",
       "  <thead>\n",
       "    <tr style=\"text-align: right;\">\n",
       "      <th></th>\n",
       "      <th>Team</th>\n",
       "      <th>Shots</th>\n",
       "    </tr>\n",
       "  </thead>\n",
       "  <tbody>\n",
       "    <tr>\n",
       "      <th>0</th>\n",
       "      <td>  Man City</td>\n",
       "      <td> 593</td>\n",
       "    </tr>\n",
       "    <tr>\n",
       "      <th>1</th>\n",
       "      <td>   Arsenal</td>\n",
       "      <td> 510</td>\n",
       "    </tr>\n",
       "    <tr>\n",
       "      <th>2</th>\n",
       "      <td> Liverpool</td>\n",
       "      <td> 507</td>\n",
       "    </tr>\n",
       "    <tr>\n",
       "      <th>3</th>\n",
       "      <td>   Chelsea</td>\n",
       "      <td> 491</td>\n",
       "    </tr>\n",
       "    <tr>\n",
       "      <th>4</th>\n",
       "      <td>       QPR</td>\n",
       "      <td> 488</td>\n",
       "    </tr>\n",
       "  </tbody>\n",
       "</table>\n",
       "</div>"
      ],
      "text/plain": [
       "        Team  Shots\n",
       "0   Man City    593\n",
       "1    Arsenal    510\n",
       "2  Liverpool    507\n",
       "3    Chelsea    491\n",
       "4        QPR    488"
      ]
     },
     "execution_count": 95,
     "metadata": {},
     "output_type": "execute_result"
    }
   ],
   "source": [
    "df_team_shots.sort(columns='Shots', ascending=False, inplace=True)\n",
    "df_team_shots.reset_index(inplace=True, drop=True)\n",
    "df_team_shots.head()"
   ]
  },
  {
   "cell_type": "markdown",
   "metadata": {},
   "source": [
    "Man City have also had the most shots. Liverpool would be in the top 3 if their points tally was more closely related to their shots!"
   ]
  },
  {
   "cell_type": "markdown",
   "metadata": {},
   "source": [
    "And now the least shots."
   ]
  },
  {
   "cell_type": "code",
   "execution_count": 96,
   "metadata": {
    "collapsed": false
   },
   "outputs": [
    {
     "data": {
      "text/html": [
       "<div style=\"max-height:1000px;max-width:1500px;overflow:auto;\">\n",
       "<table border=\"1\" class=\"dataframe\">\n",
       "  <thead>\n",
       "    <tr style=\"text-align: right;\">\n",
       "      <th></th>\n",
       "      <th>Team</th>\n",
       "      <th>Shots</th>\n",
       "    </tr>\n",
       "  </thead>\n",
       "  <tbody>\n",
       "    <tr>\n",
       "      <th>15</th>\n",
       "      <td>     Swansea</td>\n",
       "      <td> 380</td>\n",
       "    </tr>\n",
       "    <tr>\n",
       "      <th>16</th>\n",
       "      <td>   West Brom</td>\n",
       "      <td> 374</td>\n",
       "    </tr>\n",
       "    <tr>\n",
       "      <th>17</th>\n",
       "      <td> Aston Villa</td>\n",
       "      <td> 363</td>\n",
       "    </tr>\n",
       "    <tr>\n",
       "      <th>18</th>\n",
       "      <td>        Hull</td>\n",
       "      <td> 363</td>\n",
       "    </tr>\n",
       "    <tr>\n",
       "      <th>19</th>\n",
       "      <td>  Sunderland</td>\n",
       "      <td> 345</td>\n",
       "    </tr>\n",
       "  </tbody>\n",
       "</table>\n",
       "</div>"
      ],
      "text/plain": [
       "           Team  Shots\n",
       "15      Swansea    380\n",
       "16    West Brom    374\n",
       "17  Aston Villa    363\n",
       "18         Hull    363\n",
       "19   Sunderland    345"
      ]
     },
     "execution_count": 96,
     "metadata": {},
     "output_type": "execute_result"
    }
   ],
   "source": [
    "df_team_shots.tail()"
   ]
  },
  {
   "cell_type": "markdown",
   "metadata": {},
   "source": [
    "Sunderland take bottom bottom spot."
   ]
  },
  {
   "cell_type": "markdown",
   "metadata": {},
   "source": [
    "Now let's check shots per goal."
   ]
  },
  {
   "cell_type": "code",
   "execution_count": 97,
   "metadata": {
    "collapsed": false
   },
   "outputs": [
    {
     "data": {
      "text/html": [
       "<div style=\"max-height:1000px;max-width:1500px;overflow:auto;\">\n",
       "<table border=\"1\" class=\"dataframe\">\n",
       "  <thead>\n",
       "    <tr style=\"text-align: right;\">\n",
       "      <th></th>\n",
       "      <th>Team</th>\n",
       "      <th>Goals</th>\n",
       "      <th>Shots</th>\n",
       "      <th>Shots_per_Goal</th>\n",
       "    </tr>\n",
       "  </thead>\n",
       "  <tbody>\n",
       "    <tr>\n",
       "      <th>0 </th>\n",
       "      <td>        Chelsea</td>\n",
       "      <td> 65</td>\n",
       "      <td> 491</td>\n",
       "      <td>  7.6</td>\n",
       "    </tr>\n",
       "    <tr>\n",
       "      <th>1 </th>\n",
       "      <td>     Man United</td>\n",
       "      <td> 59</td>\n",
       "      <td> 451</td>\n",
       "      <td>  7.6</td>\n",
       "    </tr>\n",
       "    <tr>\n",
       "      <th>2 </th>\n",
       "      <td>        Arsenal</td>\n",
       "      <td> 63</td>\n",
       "      <td> 510</td>\n",
       "      <td>  8.1</td>\n",
       "    </tr>\n",
       "    <tr>\n",
       "      <th>3 </th>\n",
       "      <td>       Man City</td>\n",
       "      <td> 70</td>\n",
       "      <td> 593</td>\n",
       "      <td>  8.5</td>\n",
       "    </tr>\n",
       "    <tr>\n",
       "      <th>4 </th>\n",
       "      <td>      Tottenham</td>\n",
       "      <td> 55</td>\n",
       "      <td> 468</td>\n",
       "      <td>  8.5</td>\n",
       "    </tr>\n",
       "    <tr>\n",
       "      <th>5 </th>\n",
       "      <td>        Swansea</td>\n",
       "      <td> 41</td>\n",
       "      <td> 380</td>\n",
       "      <td>  9.3</td>\n",
       "    </tr>\n",
       "    <tr>\n",
       "      <th>6 </th>\n",
       "      <td> Crystal Palace</td>\n",
       "      <td> 42</td>\n",
       "      <td> 389</td>\n",
       "      <td>  9.3</td>\n",
       "    </tr>\n",
       "    <tr>\n",
       "      <th>7 </th>\n",
       "      <td>        Everton</td>\n",
       "      <td> 44</td>\n",
       "      <td> 423</td>\n",
       "      <td>  9.6</td>\n",
       "    </tr>\n",
       "    <tr>\n",
       "      <th>8 </th>\n",
       "      <td>    Southampton</td>\n",
       "      <td> 47</td>\n",
       "      <td> 454</td>\n",
       "      <td>  9.7</td>\n",
       "    </tr>\n",
       "    <tr>\n",
       "      <th>9 </th>\n",
       "      <td>       West Ham</td>\n",
       "      <td> 42</td>\n",
       "      <td> 434</td>\n",
       "      <td> 10.3</td>\n",
       "    </tr>\n",
       "    <tr>\n",
       "      <th>10</th>\n",
       "      <td>      Liverpool</td>\n",
       "      <td> 47</td>\n",
       "      <td> 507</td>\n",
       "      <td> 10.8</td>\n",
       "    </tr>\n",
       "    <tr>\n",
       "      <th>11</th>\n",
       "      <td>      Newcastle</td>\n",
       "      <td> 36</td>\n",
       "      <td> 401</td>\n",
       "      <td> 11.1</td>\n",
       "    </tr>\n",
       "    <tr>\n",
       "      <th>12</th>\n",
       "      <td>      Leicester</td>\n",
       "      <td> 35</td>\n",
       "      <td> 387</td>\n",
       "      <td> 11.1</td>\n",
       "    </tr>\n",
       "    <tr>\n",
       "      <th>13</th>\n",
       "      <td>          Stoke</td>\n",
       "      <td> 39</td>\n",
       "      <td> 449</td>\n",
       "      <td> 11.5</td>\n",
       "    </tr>\n",
       "    <tr>\n",
       "      <th>14</th>\n",
       "      <td>      West Brom</td>\n",
       "      <td> 32</td>\n",
       "      <td> 374</td>\n",
       "      <td> 11.7</td>\n",
       "    </tr>\n",
       "    <tr>\n",
       "      <th>15</th>\n",
       "      <td>           Hull</td>\n",
       "      <td> 31</td>\n",
       "      <td> 363</td>\n",
       "      <td> 11.7</td>\n",
       "    </tr>\n",
       "    <tr>\n",
       "      <th>16</th>\n",
       "      <td>            QPR</td>\n",
       "      <td> 38</td>\n",
       "      <td> 488</td>\n",
       "      <td> 12.8</td>\n",
       "    </tr>\n",
       "    <tr>\n",
       "      <th>17</th>\n",
       "      <td>     Sunderland</td>\n",
       "      <td> 26</td>\n",
       "      <td> 345</td>\n",
       "      <td> 13.3</td>\n",
       "    </tr>\n",
       "    <tr>\n",
       "      <th>18</th>\n",
       "      <td>    Aston Villa</td>\n",
       "      <td> 26</td>\n",
       "      <td> 363</td>\n",
       "      <td> 14.0</td>\n",
       "    </tr>\n",
       "    <tr>\n",
       "      <th>19</th>\n",
       "      <td>        Burnley</td>\n",
       "      <td> 26</td>\n",
       "      <td> 396</td>\n",
       "      <td> 15.2</td>\n",
       "    </tr>\n",
       "  </tbody>\n",
       "</table>\n",
       "</div>"
      ],
      "text/plain": [
       "              Team  Goals  Shots  Shots_per_Goal\n",
       "0          Chelsea     65    491             7.6\n",
       "1       Man United     59    451             7.6\n",
       "2          Arsenal     63    510             8.1\n",
       "3         Man City     70    593             8.5\n",
       "4        Tottenham     55    468             8.5\n",
       "5          Swansea     41    380             9.3\n",
       "6   Crystal Palace     42    389             9.3\n",
       "7          Everton     44    423             9.6\n",
       "8      Southampton     47    454             9.7\n",
       "9         West Ham     42    434            10.3\n",
       "10       Liverpool     47    507            10.8\n",
       "11       Newcastle     36    401            11.1\n",
       "12       Leicester     35    387            11.1\n",
       "13           Stoke     39    449            11.5\n",
       "14       West Brom     32    374            11.7\n",
       "15            Hull     31    363            11.7\n",
       "16             QPR     38    488            12.8\n",
       "17      Sunderland     26    345            13.3\n",
       "18     Aston Villa     26    363            14.0\n",
       "19         Burnley     26    396            15.2"
      ]
     },
     "execution_count": 97,
     "metadata": {},
     "output_type": "execute_result"
    }
   ],
   "source": [
    "df_team_goals_shots = df_team_goals.copy()\n",
    "df_team_goals_shots = df_team_goals_shots.merge(df_team_shots)\n",
    "df_team_goals_shots['Shots_per_Goal'] = (df_team_goals_shots['Shots']/df_team_goals_shots['Goals']).round(1)\n",
    "df_team_goals_shots.sort(columns='Shots_per_Goal', inplace=True)\n",
    "df_team_goals_shots.reset_index(inplace=True, drop=True)\n",
    "df_team_goals_shots"
   ]
  },
  {
   "cell_type": "markdown",
   "metadata": {},
   "source": [
    "Chelsea and Man United are the most clinical, scoring after every 7.6 shots. Every team should have a Diego Costa. Burnley are the least clinical, needing 15.2 shots per goal. This data also highlights Liverpool's problem - they languish in mid table because of the trouble they are having scoring this season. They've had lot's of practice but not much success."
   ]
  },
  {
   "cell_type": "markdown",
   "metadata": {},
   "source": [
    "Of course success is based on a balance of attack and defence, unless you have Luis Suarez in your team ;-). Let's check the goal difference."
   ]
  },
  {
   "cell_type": "code",
   "execution_count": 98,
   "metadata": {
    "collapsed": false
   },
   "outputs": [
    {
     "data": {
      "text/html": [
       "<div style=\"max-height:1000px;max-width:1500px;overflow:auto;\">\n",
       "<table border=\"1\" class=\"dataframe\">\n",
       "  <thead>\n",
       "    <tr style=\"text-align: right;\">\n",
       "      <th></th>\n",
       "      <th>Team</th>\n",
       "      <th>GoalDiff</th>\n",
       "    </tr>\n",
       "  </thead>\n",
       "  <tbody>\n",
       "    <tr>\n",
       "      <th>0 </th>\n",
       "      <td>        Chelsea</td>\n",
       "      <td> 39</td>\n",
       "    </tr>\n",
       "    <tr>\n",
       "      <th>1 </th>\n",
       "      <td>       Man City</td>\n",
       "      <td> 34</td>\n",
       "    </tr>\n",
       "    <tr>\n",
       "      <th>2 </th>\n",
       "      <td>        Arsenal</td>\n",
       "      <td> 31</td>\n",
       "    </tr>\n",
       "    <tr>\n",
       "      <th>3 </th>\n",
       "      <td>     Man United</td>\n",
       "      <td> 25</td>\n",
       "    </tr>\n",
       "    <tr>\n",
       "      <th>4 </th>\n",
       "      <td>    Southampton</td>\n",
       "      <td> 21</td>\n",
       "    </tr>\n",
       "    <tr>\n",
       "      <th>5 </th>\n",
       "      <td>      Liverpool</td>\n",
       "      <td> 11</td>\n",
       "    </tr>\n",
       "    <tr>\n",
       "      <th>6 </th>\n",
       "      <td>      Tottenham</td>\n",
       "      <td>  6</td>\n",
       "    </tr>\n",
       "    <tr>\n",
       "      <th>7 </th>\n",
       "      <td>        Everton</td>\n",
       "      <td>  1</td>\n",
       "    </tr>\n",
       "    <tr>\n",
       "      <th>8 </th>\n",
       "      <td>       West Ham</td>\n",
       "      <td>  0</td>\n",
       "    </tr>\n",
       "    <tr>\n",
       "      <th>9 </th>\n",
       "      <td>          Stoke</td>\n",
       "      <td> -3</td>\n",
       "    </tr>\n",
       "    <tr>\n",
       "      <th>10</th>\n",
       "      <td>        Swansea</td>\n",
       "      <td> -3</td>\n",
       "    </tr>\n",
       "    <tr>\n",
       "      <th>11</th>\n",
       "      <td> Crystal Palace</td>\n",
       "      <td> -5</td>\n",
       "    </tr>\n",
       "    <tr>\n",
       "      <th>12</th>\n",
       "      <td>           Hull</td>\n",
       "      <td>-14</td>\n",
       "    </tr>\n",
       "    <tr>\n",
       "      <th>13</th>\n",
       "      <td>      West Brom</td>\n",
       "      <td>-14</td>\n",
       "    </tr>\n",
       "    <tr>\n",
       "      <th>14</th>\n",
       "      <td>      Leicester</td>\n",
       "      <td>-16</td>\n",
       "    </tr>\n",
       "    <tr>\n",
       "      <th>15</th>\n",
       "      <td>      Newcastle</td>\n",
       "      <td>-21</td>\n",
       "    </tr>\n",
       "    <tr>\n",
       "      <th>16</th>\n",
       "      <td>            QPR</td>\n",
       "      <td>-21</td>\n",
       "    </tr>\n",
       "    <tr>\n",
       "      <th>17</th>\n",
       "      <td>    Aston Villa</td>\n",
       "      <td>-22</td>\n",
       "    </tr>\n",
       "    <tr>\n",
       "      <th>18</th>\n",
       "      <td>     Sunderland</td>\n",
       "      <td>-23</td>\n",
       "    </tr>\n",
       "    <tr>\n",
       "      <th>19</th>\n",
       "      <td>        Burnley</td>\n",
       "      <td>-26</td>\n",
       "    </tr>\n",
       "  </tbody>\n",
       "</table>\n",
       "</div>"
      ],
      "text/plain": [
       "              Team  GoalDiff\n",
       "0          Chelsea        39\n",
       "1         Man City        34\n",
       "2          Arsenal        31\n",
       "3       Man United        25\n",
       "4      Southampton        21\n",
       "5        Liverpool        11\n",
       "6        Tottenham         6\n",
       "7          Everton         1\n",
       "8         West Ham         0\n",
       "9            Stoke        -3\n",
       "10         Swansea        -3\n",
       "11  Crystal Palace        -5\n",
       "12            Hull       -14\n",
       "13       West Brom       -14\n",
       "14       Leicester       -16\n",
       "15       Newcastle       -21\n",
       "16             QPR       -21\n",
       "17     Aston Villa       -22\n",
       "18      Sunderland       -23\n",
       "19         Burnley       -26"
      ]
     },
     "execution_count": 98,
     "metadata": {},
     "output_type": "execute_result"
    }
   ],
   "source": [
    "df_team_goal_diff.sort(columns='GoalDiff', ascending=False, inplace=True)\n",
    "df_team_goal_diff.reset_index(inplace=True, drop=True)\n",
    "df_team_goal_diff"
   ]
  },
  {
   "cell_type": "markdown",
   "metadata": {},
   "source": [
    "As expected the goal difference is a much better predictor of success. Chelsea have the best goal difference. This metric shows the *current* top 4 in order. And 3 of the *current* bottom 4. Who said Chelsea are boring? That would be the Arsenal fans."
   ]
  },
  {
   "cell_type": "markdown",
   "metadata": {},
   "source": [
    "## Which referees brandish the most red cards?"
   ]
  },
  {
   "cell_type": "markdown",
   "metadata": {},
   "source": [
    "This time we'll use the pandas groupby function to slice the data."
   ]
  },
  {
   "cell_type": "code",
   "execution_count": 99,
   "metadata": {
    "collapsed": false
   },
   "outputs": [
    {
     "data": {
      "text/html": [
       "<div style=\"max-height:1000px;max-width:1500px;overflow:auto;\">\n",
       "<table border=\"1\" class=\"dataframe\">\n",
       "  <thead>\n",
       "    <tr style=\"text-align: right;\">\n",
       "      <th></th>\n",
       "      <th>HR</th>\n",
       "      <th>AR</th>\n",
       "    </tr>\n",
       "    <tr>\n",
       "      <th>Referee</th>\n",
       "      <th></th>\n",
       "      <th></th>\n",
       "    </tr>\n",
       "  </thead>\n",
       "  <tbody>\n",
       "    <tr>\n",
       "      <th>A Marriner</th>\n",
       "      <td> 0</td>\n",
       "      <td> 1</td>\n",
       "    </tr>\n",
       "    <tr>\n",
       "      <th>A Taylor</th>\n",
       "      <td> 1</td>\n",
       "      <td> 4</td>\n",
       "    </tr>\n",
       "    <tr>\n",
       "      <th>C Foy</th>\n",
       "      <td> 1</td>\n",
       "      <td> 4</td>\n",
       "    </tr>\n",
       "    <tr>\n",
       "      <th>C Pawson</th>\n",
       "      <td> 3</td>\n",
       "      <td> 3</td>\n",
       "    </tr>\n",
       "    <tr>\n",
       "      <th>G Scott</th>\n",
       "      <td> 0</td>\n",
       "      <td> 0</td>\n",
       "    </tr>\n",
       "  </tbody>\n",
       "</table>\n",
       "</div>"
      ],
      "text/plain": [
       "            HR  AR\n",
       "Referee           \n",
       "A Marriner   0   1\n",
       "A Taylor     1   4\n",
       "C Foy        1   4\n",
       "C Pawson     3   3\n",
       "G Scott      0   0"
      ]
     },
     "execution_count": 99,
     "metadata": {},
     "output_type": "execute_result"
    }
   ],
   "source": [
    "df_refs_reds = df[['Referee', 'HR', 'AR']].groupby(df['Referee']).sum()\n",
    "df_refs_reds.head()"
   ]
  },
  {
   "cell_type": "markdown",
   "metadata": {},
   "source": [
    "Let's sum the reds and sort."
   ]
  },
  {
   "cell_type": "code",
   "execution_count": 100,
   "metadata": {
    "collapsed": false
   },
   "outputs": [
    {
     "data": {
      "text/html": [
       "<div style=\"max-height:1000px;max-width:1500px;overflow:auto;\">\n",
       "<table border=\"1\" class=\"dataframe\">\n",
       "  <thead>\n",
       "    <tr style=\"text-align: right;\">\n",
       "      <th></th>\n",
       "      <th>Referee</th>\n",
       "      <th>HR</th>\n",
       "      <th>AR</th>\n",
       "      <th>TotalReds</th>\n",
       "    </tr>\n",
       "  </thead>\n",
       "  <tbody>\n",
       "    <tr>\n",
       "      <th>0</th>\n",
       "      <td>     J Moss</td>\n",
       "      <td> 3</td>\n",
       "      <td> 4</td>\n",
       "      <td> 7</td>\n",
       "    </tr>\n",
       "    <tr>\n",
       "      <th>1</th>\n",
       "      <td> M Atkinson</td>\n",
       "      <td> 5</td>\n",
       "      <td> 1</td>\n",
       "      <td> 6</td>\n",
       "    </tr>\n",
       "    <tr>\n",
       "      <th>2</th>\n",
       "      <td>   C Pawson</td>\n",
       "      <td> 3</td>\n",
       "      <td> 3</td>\n",
       "      <td> 6</td>\n",
       "    </tr>\n",
       "    <tr>\n",
       "      <th>3</th>\n",
       "      <td>      C Foy</td>\n",
       "      <td> 1</td>\n",
       "      <td> 4</td>\n",
       "      <td> 5</td>\n",
       "    </tr>\n",
       "    <tr>\n",
       "      <th>4</th>\n",
       "      <td>    L Mason</td>\n",
       "      <td> 3</td>\n",
       "      <td> 2</td>\n",
       "      <td> 5</td>\n",
       "    </tr>\n",
       "  </tbody>\n",
       "</table>\n",
       "</div>"
      ],
      "text/plain": [
       "      Referee  HR  AR  TotalReds\n",
       "0      J Moss   3   4          7\n",
       "1  M Atkinson   5   1          6\n",
       "2    C Pawson   3   3          6\n",
       "3       C Foy   1   4          5\n",
       "4     L Mason   3   2          5"
      ]
     },
     "execution_count": 100,
     "metadata": {},
     "output_type": "execute_result"
    }
   ],
   "source": [
    "df_refs_reds['TotalReds'] = df_refs_reds['HR'] + df_refs_reds['AR']\n",
    "df_refs_reds.sort(columns='TotalReds', ascending=False, inplace=True)\n",
    "df_refs_reds.reset_index(inplace=True)\n",
    "df_refs_reds.head()"
   ]
  },
  {
   "cell_type": "markdown",
   "metadata": {},
   "source": [
    "J Moss is the top brandisher of reds with 7. M Atkinson stands out for sending off mostly home players, with 5 home and 1 away red. Let's see which teams have been subject to M Atkinson's card waving."
   ]
  },
  {
   "cell_type": "code",
   "execution_count": 101,
   "metadata": {
    "collapsed": false
   },
   "outputs": [
    {
     "data": {
      "text/html": [
       "<div style=\"max-height:1000px;max-width:1500px;overflow:auto;\">\n",
       "<table border=\"1\" class=\"dataframe\">\n",
       "  <thead>\n",
       "    <tr style=\"text-align: right;\">\n",
       "      <th></th>\n",
       "      <th>HomeTeam</th>\n",
       "      <th>AwayTeam</th>\n",
       "      <th>Referee</th>\n",
       "      <th>HR</th>\n",
       "      <th>AR</th>\n",
       "    </tr>\n",
       "  </thead>\n",
       "  <tbody>\n",
       "    <tr>\n",
       "      <th>143</th>\n",
       "      <td>   Newcastle</td>\n",
       "      <td>    Chelsea</td>\n",
       "      <td> M Atkinson</td>\n",
       "      <td> 1</td>\n",
       "      <td> 0</td>\n",
       "    </tr>\n",
       "    <tr>\n",
       "      <th>170</th>\n",
       "      <td>     Arsenal</td>\n",
       "      <td>        QPR</td>\n",
       "      <td> M Atkinson</td>\n",
       "      <td> 1</td>\n",
       "      <td> 0</td>\n",
       "    </tr>\n",
       "    <tr>\n",
       "      <th>180</th>\n",
       "      <td> Aston Villa</td>\n",
       "      <td> Sunderland</td>\n",
       "      <td> M Atkinson</td>\n",
       "      <td> 1</td>\n",
       "      <td> 0</td>\n",
       "    </tr>\n",
       "    <tr>\n",
       "      <th>251</th>\n",
       "      <td>     Chelsea</td>\n",
       "      <td>    Burnley</td>\n",
       "      <td> M Atkinson</td>\n",
       "      <td> 1</td>\n",
       "      <td> 0</td>\n",
       "    </tr>\n",
       "    <tr>\n",
       "      <th>286</th>\n",
       "      <td>     Everton</td>\n",
       "      <td>  Newcastle</td>\n",
       "      <td> M Atkinson</td>\n",
       "      <td> 0</td>\n",
       "      <td> 1</td>\n",
       "    </tr>\n",
       "    <tr>\n",
       "      <th>297</th>\n",
       "      <td>   Liverpool</td>\n",
       "      <td> Man United</td>\n",
       "      <td> M Atkinson</td>\n",
       "      <td> 1</td>\n",
       "      <td> 0</td>\n",
       "    </tr>\n",
       "  </tbody>\n",
       "</table>\n",
       "</div>"
      ],
      "text/plain": [
       "        HomeTeam    AwayTeam     Referee  HR  AR\n",
       "143    Newcastle     Chelsea  M Atkinson   1   0\n",
       "170      Arsenal         QPR  M Atkinson   1   0\n",
       "180  Aston Villa  Sunderland  M Atkinson   1   0\n",
       "251      Chelsea     Burnley  M Atkinson   1   0\n",
       "286      Everton   Newcastle  M Atkinson   0   1\n",
       "297    Liverpool  Man United  M Atkinson   1   0"
      ]
     },
     "execution_count": 101,
     "metadata": {},
     "output_type": "execute_result"
    }
   ],
   "source": [
    "df[['HomeTeam', 'AwayTeam', 'Referee', 'HR', 'AR']][(df['Referee'] == 'M Atkinson') & \n",
    "                                                    ((df['HR'] > 0) | (df['AR'] > 0))]"
   ]
  },
  {
   "cell_type": "markdown",
   "metadata": {},
   "source": [
    "## What is the average number of goals per game?"
   ]
  },
  {
   "cell_type": "code",
   "execution_count": 102,
   "metadata": {
    "collapsed": false
   },
   "outputs": [
    {
     "name": "stdout",
     "output_type": "stream",
     "text": [
      "average number of goals per game is 2.6\n"
     ]
    }
   ],
   "source": [
    "total_games = len(df)\n",
    "total_goals = df['FTHG'].sum() + df['FTAG'].sum()\n",
    "goals_per_game = total_goals/total_games\n",
    "print 'average number of goals per game is {:.2}'.format(goals_per_game)"
   ]
  },
  {
   "cell_type": "markdown",
   "metadata": {},
   "source": [
    "## What is the average number of goals in first half?"
   ]
  },
  {
   "cell_type": "code",
   "execution_count": 103,
   "metadata": {
    "collapsed": false
   },
   "outputs": [
    {
     "name": "stdout",
     "output_type": "stream",
     "text": [
      "average number of goals per fist half is 1.2\n"
     ]
    }
   ],
   "source": [
    "total_fh_goals = df['HTHG'].sum() + df['HTAG'].sum()\n",
    "goals_per_first_half = total_fh_goals/total_games\n",
    "print 'average number of goals per fist half is {:.2}'.format(goals_per_first_half)"
   ]
  },
  {
   "cell_type": "markdown",
   "metadata": {},
   "source": [
    "## What is the average number of goals in second half?"
   ]
  },
  {
   "cell_type": "code",
   "execution_count": 104,
   "metadata": {
    "collapsed": false
   },
   "outputs": [
    {
     "name": "stdout",
     "output_type": "stream",
     "text": [
      "average number of goals per second half is 1.4\n"
     ]
    }
   ],
   "source": [
    "total_sh_goals = total_goals - total_fh_goals\n",
    "goals_per_second_half = total_sh_goals/total_games\n",
    "print 'average number of goals per second half is {:.2}'.format(goals_per_second_half)"
   ]
  },
  {
   "cell_type": "markdown",
   "metadata": {},
   "source": [
    "So you are more likely to see a goal in the second half. I guess this is down to teams tiring and leaving themselves more open."
   ]
  },
  {
   "cell_type": "markdown",
   "metadata": {},
   "source": [
    "## What does the premiership table look like?"
   ]
  },
  {
   "cell_type": "markdown",
   "metadata": {},
   "source": [
    "Let's create a standard table from the raw match data. For comparison see this [premiership table](http://www.premierleague.com/en-gb/matchday/league-table.html?season=2014-2015&month=APRIL&timelineView=date&toDate=1430089199999&tableView=CURRENT_STANDINGS) (as of 27th April 2015)."
   ]
  },
  {
   "cell_type": "code",
   "execution_count": 105,
   "metadata": {
    "collapsed": false
   },
   "outputs": [
    {
     "data": {
      "text/html": [
       "<div style=\"max-height:1000px;max-width:1500px;overflow:auto;\">\n",
       "<table border=\"1\" class=\"dataframe\">\n",
       "  <thead>\n",
       "    <tr style=\"text-align: right;\">\n",
       "      <th></th>\n",
       "      <th>Team</th>\n",
       "      <th>P</th>\n",
       "      <th>W</th>\n",
       "      <th>D</th>\n",
       "      <th>L</th>\n",
       "      <th>GF</th>\n",
       "      <th>GA</th>\n",
       "      <th>GD</th>\n",
       "      <th>PTS</th>\n",
       "    </tr>\n",
       "    <tr>\n",
       "      <th>Position</th>\n",
       "      <th></th>\n",
       "      <th></th>\n",
       "      <th></th>\n",
       "      <th></th>\n",
       "      <th></th>\n",
       "      <th></th>\n",
       "      <th></th>\n",
       "      <th></th>\n",
       "      <th></th>\n",
       "    </tr>\n",
       "  </thead>\n",
       "  <tbody>\n",
       "    <tr>\n",
       "      <th>1 </th>\n",
       "      <td>        Chelsea</td>\n",
       "      <td> 33</td>\n",
       "      <td> 23</td>\n",
       "      <td>  8</td>\n",
       "      <td>  2</td>\n",
       "      <td> 65</td>\n",
       "      <td> 26</td>\n",
       "      <td> 39</td>\n",
       "      <td> 77</td>\n",
       "    </tr>\n",
       "    <tr>\n",
       "      <th>2 </th>\n",
       "      <td>       Man City</td>\n",
       "      <td> 34</td>\n",
       "      <td> 20</td>\n",
       "      <td>  7</td>\n",
       "      <td>  7</td>\n",
       "      <td> 70</td>\n",
       "      <td> 36</td>\n",
       "      <td> 34</td>\n",
       "      <td> 67</td>\n",
       "    </tr>\n",
       "    <tr>\n",
       "      <th>3 </th>\n",
       "      <td>        Arsenal</td>\n",
       "      <td> 33</td>\n",
       "      <td> 20</td>\n",
       "      <td>  7</td>\n",
       "      <td>  6</td>\n",
       "      <td> 63</td>\n",
       "      <td> 32</td>\n",
       "      <td> 31</td>\n",
       "      <td> 67</td>\n",
       "    </tr>\n",
       "    <tr>\n",
       "      <th>4 </th>\n",
       "      <td>     Man United</td>\n",
       "      <td> 34</td>\n",
       "      <td> 19</td>\n",
       "      <td>  8</td>\n",
       "      <td>  7</td>\n",
       "      <td> 59</td>\n",
       "      <td> 34</td>\n",
       "      <td> 25</td>\n",
       "      <td> 65</td>\n",
       "    </tr>\n",
       "    <tr>\n",
       "      <th>5 </th>\n",
       "      <td>      Liverpool</td>\n",
       "      <td> 33</td>\n",
       "      <td> 17</td>\n",
       "      <td>  7</td>\n",
       "      <td>  9</td>\n",
       "      <td> 47</td>\n",
       "      <td> 36</td>\n",
       "      <td> 11</td>\n",
       "      <td> 58</td>\n",
       "    </tr>\n",
       "    <tr>\n",
       "      <th>6 </th>\n",
       "      <td>      Tottenham</td>\n",
       "      <td> 34</td>\n",
       "      <td> 17</td>\n",
       "      <td>  7</td>\n",
       "      <td> 10</td>\n",
       "      <td> 55</td>\n",
       "      <td> 49</td>\n",
       "      <td>  6</td>\n",
       "      <td> 58</td>\n",
       "    </tr>\n",
       "    <tr>\n",
       "      <th>7 </th>\n",
       "      <td>    Southampton</td>\n",
       "      <td> 34</td>\n",
       "      <td> 17</td>\n",
       "      <td>  6</td>\n",
       "      <td> 11</td>\n",
       "      <td> 47</td>\n",
       "      <td> 26</td>\n",
       "      <td> 21</td>\n",
       "      <td> 57</td>\n",
       "    </tr>\n",
       "    <tr>\n",
       "      <th>8 </th>\n",
       "      <td>        Swansea</td>\n",
       "      <td> 34</td>\n",
       "      <td> 14</td>\n",
       "      <td>  8</td>\n",
       "      <td> 12</td>\n",
       "      <td> 41</td>\n",
       "      <td> 44</td>\n",
       "      <td> -3</td>\n",
       "      <td> 50</td>\n",
       "    </tr>\n",
       "    <tr>\n",
       "      <th>9 </th>\n",
       "      <td>          Stoke</td>\n",
       "      <td> 34</td>\n",
       "      <td> 13</td>\n",
       "      <td>  8</td>\n",
       "      <td> 13</td>\n",
       "      <td> 39</td>\n",
       "      <td> 42</td>\n",
       "      <td> -3</td>\n",
       "      <td> 47</td>\n",
       "    </tr>\n",
       "    <tr>\n",
       "      <th>10</th>\n",
       "      <td>        Everton</td>\n",
       "      <td> 34</td>\n",
       "      <td> 11</td>\n",
       "      <td> 11</td>\n",
       "      <td> 12</td>\n",
       "      <td> 44</td>\n",
       "      <td> 43</td>\n",
       "      <td>  1</td>\n",
       "      <td> 44</td>\n",
       "    </tr>\n",
       "    <tr>\n",
       "      <th>11</th>\n",
       "      <td>       West Ham</td>\n",
       "      <td> 34</td>\n",
       "      <td> 11</td>\n",
       "      <td> 11</td>\n",
       "      <td> 12</td>\n",
       "      <td> 42</td>\n",
       "      <td> 42</td>\n",
       "      <td>  0</td>\n",
       "      <td> 44</td>\n",
       "    </tr>\n",
       "    <tr>\n",
       "      <th>12</th>\n",
       "      <td> Crystal Palace</td>\n",
       "      <td> 34</td>\n",
       "      <td> 11</td>\n",
       "      <td>  9</td>\n",
       "      <td> 14</td>\n",
       "      <td> 42</td>\n",
       "      <td> 47</td>\n",
       "      <td> -5</td>\n",
       "      <td> 42</td>\n",
       "    </tr>\n",
       "    <tr>\n",
       "      <th>13</th>\n",
       "      <td>      West Brom</td>\n",
       "      <td> 34</td>\n",
       "      <td>  9</td>\n",
       "      <td> 10</td>\n",
       "      <td> 15</td>\n",
       "      <td> 32</td>\n",
       "      <td> 46</td>\n",
       "      <td>-14</td>\n",
       "      <td> 37</td>\n",
       "    </tr>\n",
       "    <tr>\n",
       "      <th>14</th>\n",
       "      <td>      Newcastle</td>\n",
       "      <td> 34</td>\n",
       "      <td>  9</td>\n",
       "      <td>  8</td>\n",
       "      <td> 17</td>\n",
       "      <td> 36</td>\n",
       "      <td> 57</td>\n",
       "      <td>-21</td>\n",
       "      <td> 35</td>\n",
       "    </tr>\n",
       "    <tr>\n",
       "      <th>15</th>\n",
       "      <td>    Aston Villa</td>\n",
       "      <td> 34</td>\n",
       "      <td>  8</td>\n",
       "      <td>  8</td>\n",
       "      <td> 18</td>\n",
       "      <td> 26</td>\n",
       "      <td> 48</td>\n",
       "      <td>-22</td>\n",
       "      <td> 32</td>\n",
       "    </tr>\n",
       "    <tr>\n",
       "      <th>16</th>\n",
       "      <td>           Hull</td>\n",
       "      <td> 33</td>\n",
       "      <td>  7</td>\n",
       "      <td> 10</td>\n",
       "      <td> 16</td>\n",
       "      <td> 31</td>\n",
       "      <td> 45</td>\n",
       "      <td>-14</td>\n",
       "      <td> 31</td>\n",
       "    </tr>\n",
       "    <tr>\n",
       "      <th>17</th>\n",
       "      <td>      Leicester</td>\n",
       "      <td> 33</td>\n",
       "      <td>  8</td>\n",
       "      <td>  7</td>\n",
       "      <td> 18</td>\n",
       "      <td> 35</td>\n",
       "      <td> 51</td>\n",
       "      <td>-16</td>\n",
       "      <td> 31</td>\n",
       "    </tr>\n",
       "    <tr>\n",
       "      <th>18</th>\n",
       "      <td>     Sunderland</td>\n",
       "      <td> 33</td>\n",
       "      <td>  5</td>\n",
       "      <td> 15</td>\n",
       "      <td> 13</td>\n",
       "      <td> 26</td>\n",
       "      <td> 49</td>\n",
       "      <td>-23</td>\n",
       "      <td> 30</td>\n",
       "    </tr>\n",
       "    <tr>\n",
       "      <th>19</th>\n",
       "      <td>            QPR</td>\n",
       "      <td> 34</td>\n",
       "      <td>  7</td>\n",
       "      <td>  6</td>\n",
       "      <td> 21</td>\n",
       "      <td> 38</td>\n",
       "      <td> 59</td>\n",
       "      <td>-21</td>\n",
       "      <td> 27</td>\n",
       "    </tr>\n",
       "    <tr>\n",
       "      <th>20</th>\n",
       "      <td>        Burnley</td>\n",
       "      <td> 34</td>\n",
       "      <td>  5</td>\n",
       "      <td> 11</td>\n",
       "      <td> 18</td>\n",
       "      <td> 26</td>\n",
       "      <td> 52</td>\n",
       "      <td>-26</td>\n",
       "      <td> 26</td>\n",
       "    </tr>\n",
       "  </tbody>\n",
       "</table>\n",
       "</div>"
      ],
      "text/plain": [
       "                    Team   P   W   D   L  GF  GA  GD  PTS\n",
       "Position                                                 \n",
       "1                Chelsea  33  23   8   2  65  26  39   77\n",
       "2               Man City  34  20   7   7  70  36  34   67\n",
       "3                Arsenal  33  20   7   6  63  32  31   67\n",
       "4             Man United  34  19   8   7  59  34  25   65\n",
       "5              Liverpool  33  17   7   9  47  36  11   58\n",
       "6              Tottenham  34  17   7  10  55  49   6   58\n",
       "7            Southampton  34  17   6  11  47  26  21   57\n",
       "8                Swansea  34  14   8  12  41  44  -3   50\n",
       "9                  Stoke  34  13   8  13  39  42  -3   47\n",
       "10               Everton  34  11  11  12  44  43   1   44\n",
       "11              West Ham  34  11  11  12  42  42   0   44\n",
       "12        Crystal Palace  34  11   9  14  42  47  -5   42\n",
       "13             West Brom  34   9  10  15  32  46 -14   37\n",
       "14             Newcastle  34   9   8  17  36  57 -21   35\n",
       "15           Aston Villa  34   8   8  18  26  48 -22   32\n",
       "16                  Hull  33   7  10  16  31  45 -14   31\n",
       "17             Leicester  33   8   7  18  35  51 -16   31\n",
       "18            Sunderland  33   5  15  13  26  49 -23   30\n",
       "19                   QPR  34   7   6  21  38  59 -21   27\n",
       "20               Burnley  34   5  11  18  26  52 -26   26"
      ]
     },
     "execution_count": 105,
     "metadata": {},
     "output_type": "execute_result"
    }
   ],
   "source": [
    "results = [] # create results list\n",
    "\n",
    "for team in df['HomeTeam'].unique():\n",
    "    home_results = df[df['HomeTeam'] == team]\n",
    "    home_played = len(home_results.index)\n",
    "    home_win = home_results.FTR[home_results.FTR == 'H'].count()\n",
    "    home_draw = home_results.FTR[home_results.FTR == 'D'].count()\n",
    "    home_lose = home_results.FTR[home_results.FTR == 'A'].count()\n",
    "    home_goals_for = home_results.FTHG.sum()\n",
    "    home_goals_against = home_results.FTAG.sum()\n",
    "\n",
    "    away_results = df[df['AwayTeam'] == team]\n",
    "    away_played = len(away_results.index)\n",
    "    away_win = away_results.FTR[away_results.FTR == 'A'].count()\n",
    "    away_draw = away_results.FTR[away_results.FTR == 'D'].count()\n",
    "    away_lose = away_results.FTR[away_results.FTR == 'H'].count()\n",
    "    away_goals_for = away_results.FTAG.sum()\n",
    "    away_goals_against = away_results.FTHG.sum()\n",
    "    \n",
    "    result_d = {} # create dictionary to hold team results\n",
    "    result_d['Team'] = team\n",
    "    result_d['P'] = home_played + away_played\n",
    "    result_d['W'] = home_win + away_win\n",
    "    result_d['D'] = home_draw + away_draw\n",
    "    result_d['L'] = home_lose + away_lose\n",
    "    result_d['GF'] = home_goals_for + away_goals_for\n",
    "    result_d['GA'] = home_goals_against + away_goals_against\n",
    "    result_d['GD'] = result_d['GF'] - result_d['GA']\n",
    "    result_d['PTS'] = result_d['W']*3 + result_d['D']\n",
    "    \n",
    "    results.append(result_d) # append team result dictionary to list of results\n",
    "    \n",
    "# create DataFrame from results and sort by points (and then goal difference)\n",
    "PLtable = pd.DataFrame(results, columns=['Team', 'P', 'W', 'D', 'L', 'GF', 'GA', 'GD', 'PTS'])\n",
    "PLtable.sort(columns=['PTS', 'GD'], ascending=False, inplace=True)\n",
    "PLtable['Position'] = range(1, len(PLtable)+1) # add new column for position, with highest points first\n",
    "PLtable.set_index(['Position'], inplace=True, drop=True) \n",
    "PLtable"
   ]
  },
  {
   "cell_type": "markdown",
   "metadata": {},
   "source": [
    "## Which team has drawn most and least games?"
   ]
  },
  {
   "cell_type": "code",
   "execution_count": 106,
   "metadata": {
    "collapsed": false
   },
   "outputs": [
    {
     "name": "stdout",
     "output_type": "stream",
     "text": [
      "team(s) with most draws (15): Sunderland\n",
      "team(s) with least draws (6): Southampton, QPR\n"
     ]
    }
   ],
   "source": [
    "max_draws = PLtable['D'].max()\n",
    "teams_most_draws = PLtable['Team'][PLtable['D'] == max_draws].values\n",
    "min_draws = PLtable['D'].min()\n",
    "teams_least_draws = PLtable['Team'][PLtable['D'] == min_draws].values\n",
    "print 'team(s) with most draws ({}): {}'.format(max_draws, ', '.join(teams_most_draws))\n",
    "print 'team(s) with least draws ({}): {}'.format(min_draws, ', '.join(teams_least_draws))"
   ]
  },
  {
   "cell_type": "markdown",
   "metadata": {},
   "source": [
    "##What is the most and least common score?"
   ]
  },
  {
   "cell_type": "markdown",
   "metadata": {},
   "source": [
    "Let's add a new column with the score and analyse."
   ]
  },
  {
   "cell_type": "code",
   "execution_count": 107,
   "metadata": {
    "collapsed": false
   },
   "outputs": [
    {
     "data": {
      "text/html": [
       "<div style=\"max-height:1000px;max-width:1500px;overflow:auto;\">\n",
       "<table border=\"1\" class=\"dataframe\">\n",
       "  <thead>\n",
       "    <tr style=\"text-align: right;\">\n",
       "      <th></th>\n",
       "      <th>Date</th>\n",
       "      <th>HomeTeam</th>\n",
       "      <th>AwayTeam</th>\n",
       "      <th>FTHG</th>\n",
       "      <th>FTAG</th>\n",
       "      <th>FTR</th>\n",
       "      <th>HTHG</th>\n",
       "      <th>HTAG</th>\n",
       "      <th>Referee</th>\n",
       "      <th>HS</th>\n",
       "      <th>AS</th>\n",
       "      <th>HST</th>\n",
       "      <th>AST</th>\n",
       "      <th>HR</th>\n",
       "      <th>AR</th>\n",
       "      <th>Score</th>\n",
       "    </tr>\n",
       "  </thead>\n",
       "  <tbody>\n",
       "    <tr>\n",
       "      <th>0</th>\n",
       "      <td> 16/08/14</td>\n",
       "      <td>    Arsenal</td>\n",
       "      <td> Crystal Palace</td>\n",
       "      <td> 2</td>\n",
       "      <td> 1</td>\n",
       "      <td> H</td>\n",
       "      <td> 1</td>\n",
       "      <td> 1</td>\n",
       "      <td>   J Moss</td>\n",
       "      <td> 14</td>\n",
       "      <td>  4</td>\n",
       "      <td> 6</td>\n",
       "      <td> 2</td>\n",
       "      <td> 0</td>\n",
       "      <td> 1</td>\n",
       "      <td> 2:1</td>\n",
       "    </tr>\n",
       "    <tr>\n",
       "      <th>1</th>\n",
       "      <td> 16/08/14</td>\n",
       "      <td>  Leicester</td>\n",
       "      <td>        Everton</td>\n",
       "      <td> 2</td>\n",
       "      <td> 2</td>\n",
       "      <td> D</td>\n",
       "      <td> 1</td>\n",
       "      <td> 2</td>\n",
       "      <td>  M Jones</td>\n",
       "      <td> 11</td>\n",
       "      <td> 13</td>\n",
       "      <td> 3</td>\n",
       "      <td> 3</td>\n",
       "      <td> 0</td>\n",
       "      <td> 0</td>\n",
       "      <td> 2:2</td>\n",
       "    </tr>\n",
       "    <tr>\n",
       "      <th>2</th>\n",
       "      <td> 16/08/14</td>\n",
       "      <td> Man United</td>\n",
       "      <td>        Swansea</td>\n",
       "      <td> 1</td>\n",
       "      <td> 2</td>\n",
       "      <td> A</td>\n",
       "      <td> 0</td>\n",
       "      <td> 1</td>\n",
       "      <td>   M Dean</td>\n",
       "      <td> 14</td>\n",
       "      <td>  5</td>\n",
       "      <td> 5</td>\n",
       "      <td> 4</td>\n",
       "      <td> 0</td>\n",
       "      <td> 0</td>\n",
       "      <td> 1:2</td>\n",
       "    </tr>\n",
       "    <tr>\n",
       "      <th>3</th>\n",
       "      <td> 16/08/14</td>\n",
       "      <td>        QPR</td>\n",
       "      <td>           Hull</td>\n",
       "      <td> 0</td>\n",
       "      <td> 1</td>\n",
       "      <td> A</td>\n",
       "      <td> 0</td>\n",
       "      <td> 0</td>\n",
       "      <td> C Pawson</td>\n",
       "      <td> 19</td>\n",
       "      <td> 11</td>\n",
       "      <td> 6</td>\n",
       "      <td> 4</td>\n",
       "      <td> 0</td>\n",
       "      <td> 0</td>\n",
       "      <td> 0:1</td>\n",
       "    </tr>\n",
       "    <tr>\n",
       "      <th>4</th>\n",
       "      <td> 16/08/14</td>\n",
       "      <td>      Stoke</td>\n",
       "      <td>    Aston Villa</td>\n",
       "      <td> 0</td>\n",
       "      <td> 1</td>\n",
       "      <td> A</td>\n",
       "      <td> 0</td>\n",
       "      <td> 0</td>\n",
       "      <td> A Taylor</td>\n",
       "      <td> 12</td>\n",
       "      <td>  7</td>\n",
       "      <td> 2</td>\n",
       "      <td> 2</td>\n",
       "      <td> 0</td>\n",
       "      <td> 0</td>\n",
       "      <td> 0:1</td>\n",
       "    </tr>\n",
       "  </tbody>\n",
       "</table>\n",
       "</div>"
      ],
      "text/plain": [
       "       Date    HomeTeam        AwayTeam  FTHG  FTAG FTR  HTHG  HTAG   Referee  \\\n",
       "0  16/08/14     Arsenal  Crystal Palace     2     1   H     1     1    J Moss   \n",
       "1  16/08/14   Leicester         Everton     2     2   D     1     2   M Jones   \n",
       "2  16/08/14  Man United         Swansea     1     2   A     0     1    M Dean   \n",
       "3  16/08/14         QPR            Hull     0     1   A     0     0  C Pawson   \n",
       "4  16/08/14       Stoke     Aston Villa     0     1   A     0     0  A Taylor   \n",
       "\n",
       "   HS  AS  HST  AST  HR  AR Score  \n",
       "0  14   4    6    2   0   1   2:1  \n",
       "1  11  13    3    3   0   0   2:2  \n",
       "2  14   5    5    4   0   0   1:2  \n",
       "3  19  11    6    4   0   0   0:1  \n",
       "4  12   7    2    2   0   0   0:1  "
      ]
     },
     "execution_count": 107,
     "metadata": {},
     "output_type": "execute_result"
    }
   ],
   "source": [
    "df['Score'] = df['FTHG'].map(str) + ':' + df['FTAG'].map(str)\n",
    "df.head()"
   ]
  },
  {
   "cell_type": "markdown",
   "metadata": {
    "collapsed": true
   },
   "source": [
    "Let's count each score as a percentage of all the scores."
   ]
  },
  {
   "cell_type": "code",
   "execution_count": 108,
   "metadata": {
    "collapsed": false
   },
   "outputs": [
    {
     "name": "stdout",
     "output_type": "stream",
     "text": [
      "most common scores:\n",
      "       Count  Count%\n",
      "Score               \n",
      "1:1       34    10.1\n",
      "0:1       34    10.1\n",
      "1:0       32     9.5\n",
      "2:0       32     9.5\n",
      "2:1       32     9.5\n",
      "\n",
      "least common scores:\n",
      "       Count  Count%\n",
      "Score               \n",
      "0:5        1     0.3\n",
      "0:4        1     0.3\n",
      "3:6        1     0.3\n",
      "4:3        1     0.3\n",
      "8:0        1     0.3\n"
     ]
    }
   ],
   "source": [
    "Score_df = pd.DataFrame(df['Score'].groupby(df['Score']).count())\n",
    "Score_df.columns = ['Count']\n",
    "Score_df.sort(['Count'], inplace=True, ascending=False)\n",
    "tot_scores = Score_df['Count'].sum()\n",
    "Score_df['Count%'] = (100*(Score_df['Count']/tot_scores)).round(1)\n",
    "print 'most common scores:'\n",
    "print Score_df.head()\n",
    "print '\\nleast common scores:'\n",
    "print Score_df.tail()"
   ]
  },
  {
   "cell_type": "markdown",
   "metadata": {},
   "source": [
    "So 1:1 and 0:1 are most common at 10.1%. And 8:0 (and several others) are least common at 0.3%."
   ]
  },
  {
   "cell_type": "markdown",
   "metadata": {},
   "source": [
    "##What does the score matrix look like?"
   ]
  },
  {
   "cell_type": "code",
   "execution_count": 109,
   "metadata": {
    "collapsed": false
   },
   "outputs": [
    {
     "data": {
      "text/html": [
       "<div style=\"max-height:1000px;max-width:1500px;overflow:auto;\">\n",
       "<table border=\"1\" class=\"dataframe\">\n",
       "  <thead>\n",
       "    <tr style=\"text-align: right;\">\n",
       "      <th>AwayGoals</th>\n",
       "      <th>0</th>\n",
       "      <th>1</th>\n",
       "      <th>2</th>\n",
       "      <th>3</th>\n",
       "      <th>4</th>\n",
       "      <th>5</th>\n",
       "      <th>6</th>\n",
       "    </tr>\n",
       "    <tr>\n",
       "      <th>HomeGoals</th>\n",
       "      <th></th>\n",
       "      <th></th>\n",
       "      <th></th>\n",
       "      <th></th>\n",
       "      <th></th>\n",
       "      <th></th>\n",
       "      <th></th>\n",
       "    </tr>\n",
       "  </thead>\n",
       "  <tbody>\n",
       "    <tr>\n",
       "      <th>0</th>\n",
       "      <td> 8.0%</td>\n",
       "      <td> 10.1%</td>\n",
       "      <td> 3.9%</td>\n",
       "      <td> 1.5%</td>\n",
       "      <td> 0.3%</td>\n",
       "      <td> 0.3%</td>\n",
       "      <td>    -</td>\n",
       "    </tr>\n",
       "    <tr>\n",
       "      <th>1</th>\n",
       "      <td> 9.5%</td>\n",
       "      <td> 10.1%</td>\n",
       "      <td> 7.1%</td>\n",
       "      <td> 3.6%</td>\n",
       "      <td> 1.2%</td>\n",
       "      <td>    -</td>\n",
       "      <td>    -</td>\n",
       "    </tr>\n",
       "    <tr>\n",
       "      <th>2</th>\n",
       "      <td> 9.5%</td>\n",
       "      <td>  9.5%</td>\n",
       "      <td> 6.5%</td>\n",
       "      <td> 1.8%</td>\n",
       "      <td> 0.3%</td>\n",
       "      <td>    -</td>\n",
       "      <td>    -</td>\n",
       "    </tr>\n",
       "    <tr>\n",
       "      <th>3</th>\n",
       "      <td> 4.7%</td>\n",
       "      <td>  3.9%</td>\n",
       "      <td> 2.4%</td>\n",
       "      <td> 0.9%</td>\n",
       "      <td>    -</td>\n",
       "      <td>    -</td>\n",
       "      <td> 0.3%</td>\n",
       "    </tr>\n",
       "    <tr>\n",
       "      <th>4</th>\n",
       "      <td> 1.2%</td>\n",
       "      <td>  1.2%</td>\n",
       "      <td> 0.6%</td>\n",
       "      <td> 0.3%</td>\n",
       "      <td>    -</td>\n",
       "      <td>    -</td>\n",
       "      <td>    -</td>\n",
       "    </tr>\n",
       "    <tr>\n",
       "      <th>5</th>\n",
       "      <td> 0.6%</td>\n",
       "      <td>     -</td>\n",
       "      <td>    -</td>\n",
       "      <td> 0.6%</td>\n",
       "      <td>    -</td>\n",
       "      <td>    -</td>\n",
       "      <td>    -</td>\n",
       "    </tr>\n",
       "    <tr>\n",
       "      <th>6</th>\n",
       "      <td>    -</td>\n",
       "      <td>     -</td>\n",
       "      <td>    -</td>\n",
       "      <td>    -</td>\n",
       "      <td>    -</td>\n",
       "      <td>    -</td>\n",
       "      <td>    -</td>\n",
       "    </tr>\n",
       "    <tr>\n",
       "      <th>7</th>\n",
       "      <td>    -</td>\n",
       "      <td>     -</td>\n",
       "      <td>    -</td>\n",
       "      <td>    -</td>\n",
       "      <td>    -</td>\n",
       "      <td>    -</td>\n",
       "      <td>    -</td>\n",
       "    </tr>\n",
       "    <tr>\n",
       "      <th>8</th>\n",
       "      <td> 0.3%</td>\n",
       "      <td>     -</td>\n",
       "      <td>    -</td>\n",
       "      <td>    -</td>\n",
       "      <td>    -</td>\n",
       "      <td>    -</td>\n",
       "      <td>    -</td>\n",
       "    </tr>\n",
       "  </tbody>\n",
       "</table>\n",
       "</div>"
      ],
      "text/plain": [
       "AwayGoals     0      1     2     3     4     5     6\n",
       "HomeGoals                                           \n",
       "0          8.0%  10.1%  3.9%  1.5%  0.3%  0.3%     -\n",
       "1          9.5%  10.1%  7.1%  3.6%  1.2%     -     -\n",
       "2          9.5%   9.5%  6.5%  1.8%  0.3%     -     -\n",
       "3          4.7%   3.9%  2.4%  0.9%     -     -  0.3%\n",
       "4          1.2%   1.2%  0.6%  0.3%     -     -     -\n",
       "5          0.6%      -     -  0.6%     -     -     -\n",
       "6             -      -     -     -     -     -     -\n",
       "7             -      -     -     -     -     -     -\n",
       "8          0.3%      -     -     -     -     -     -"
      ]
     },
     "execution_count": 109,
     "metadata": {},
     "output_type": "execute_result"
    }
   ],
   "source": [
    "# create dataframe of scores, with home goals as rows and away goals as columns\n",
    "df_scores = pd.DataFrame()\n",
    "df_scores.columns.name='AwayGoals'\n",
    "df_scores.index.name='HomeGoals'\n",
    "\n",
    "# calculate max home goals and max away_goals\n",
    "max_hg = df['FTHG'].max()\n",
    "max_ag = df['FTAG'].max()\n",
    "\n",
    "# create empty matrix (ensures all possible scores, up to max, are covered)\n",
    "for hg in range(max_hg + 1):\n",
    "    for ag in range(max_ag + 1):\n",
    "        df_scores.set_value(hg, ag, '-')\n",
    "\n",
    "# create the sorted, unique ndarray of scores\n",
    "scores = df['Score'].unique() \n",
    "scores.sort() \n",
    "\n",
    "# for each score populate the matrix with its percentage occurrence\n",
    "for score in scores:\n",
    "    score_split = score.split(':')\n",
    "    hg, ag = int(score_split[0]), int(score_split[1])\n",
    "    df_scores.set_value(hg, ag, \n",
    "                        '{:.1%}'.format((df['Score'][df['Score'] == score].count())/total_games))\n",
    "    \n",
    "df_scores"
   ]
  },
  {
   "cell_type": "markdown",
   "metadata": {},
   "source": [
    "##What is the percentage of full-time home wins, home draws and away wins?\n",
    "\n",
    "Also known as Spiegelhager's 48/26/26 law. That is Spiegelhager predicts - over a full season - an outcome of 48 home wins, 26 away wins and 26 draws."
   ]
  },
  {
   "cell_type": "code",
   "execution_count": 110,
   "metadata": {
    "collapsed": false
   },
   "outputs": [
    {
     "name": "stdout",
     "output_type": "stream",
     "text": [
      "Total games=337, home wins=149, away wins=102, draws=86\n",
      "Total games=337, home wins%=44.2%, away wins%=30.3%, draws%=25.5%\n"
     ]
    }
   ],
   "source": [
    "home_wins = df['FTR'][df['FTR'] == 'H'].count()\n",
    "away_wins = df['FTR'][df['FTR'] == 'A'].count()\n",
    "draws = df['FTR'][df['FTR'] == 'D'].count()\n",
    "print 'Total games={}, home wins={}, away wins={}, draws={}'.format(total_games, \n",
    "                                                                    home_wins, away_wins, draws)\n",
    "home_wins_pc = home_wins/total_games\n",
    "away_wins_pc = away_wins/total_games\n",
    "draws_pc = draws/total_games\n",
    "print 'Total games={}, home wins%={:.1%}, away wins%={:.1%}, draws%={:.1%}'.format(total_games, \n",
    "                                                                     home_wins_pc, away_wins_pc, draws_pc)"
   ]
  },
  {
   "cell_type": "code",
   "execution_count": 111,
   "metadata": {
    "collapsed": false
   },
   "outputs": [
    {
     "data": {
      "text/html": [
       "<div style=\"max-height:1000px;max-width:1500px;overflow:auto;\">\n",
       "<table border=\"1\" class=\"dataframe\">\n",
       "  <thead>\n",
       "    <tr style=\"text-align: right;\">\n",
       "      <th>Full Time Result</th>\n",
       "      <th>H</th>\n",
       "      <th>A</th>\n",
       "      <th>D</th>\n",
       "    </tr>\n",
       "  </thead>\n",
       "  <tbody>\n",
       "    <tr>\n",
       "      <th>2015-16 %</th>\n",
       "      <td> 44.2</td>\n",
       "      <td> 30.3</td>\n",
       "      <td> 25.5</td>\n",
       "    </tr>\n",
       "  </tbody>\n",
       "</table>\n",
       "</div>"
      ],
      "text/plain": [
       "Full Time Result     H     A     D\n",
       "2015-16 %         44.2  30.3  25.5"
      ]
     },
     "execution_count": 111,
     "metadata": {},
     "output_type": "execute_result"
    }
   ],
   "source": [
    "# calculate Spiegelhager result series using groupby\n",
    "spieg = (100*(df['FTR'].groupby(df['FTR']).count())/total_games).round(1)\n",
    "spieg.sort(ascending=False)\n",
    "\n",
    "# display result as dataframe\n",
    "df_spieg = pd.DataFrame({'2015-16 %': spieg})\n",
    "df_spieg.index.name='Full Time Result'\n",
    "df_spieg.transpose()"
   ]
  },
  {
   "cell_type": "markdown",
   "metadata": {},
   "source": [
    "##What does the graph comparing the top team performance look like?"
   ]
  },
  {
   "cell_type": "markdown",
   "metadata": {},
   "source": [
    "Build a dictionary of team points.\n",
    "The dictionary is keyed on team name and has a value of a list containings the cumulative points from match 1 to the most recent match.\n",
    "\n",
    "For each team, the length of the list is therefore the number of games played and the final list entry is the total points accumulated."
   ]
  },
  {
   "cell_type": "code",
   "execution_count": 112,
   "metadata": {
    "collapsed": false
   },
   "outputs": [],
   "source": [
    "team_points = defaultdict(list)\n",
    "\n",
    "# create mapping dictionary, mapping result to points, for home and away full time results\n",
    "HFTR_points = {'H': 3, 'A': 0, 'D': 1}\n",
    "AFTR_points = {'H': 0, 'A': 3, 'D': 1}\n",
    "\n",
    "for ht, at, ftr in df[['HomeTeam', 'AwayTeam', 'FTR']].values:\n",
    "    if team_points[ht]:\n",
    "        team_points[ht].append(team_points[ht][-1] + HFTR_points[ftr]) \n",
    "    else:\n",
    "        team_points[ht].append(HFTR_points[ftr])\n",
    "        \n",
    "    if team_points[at]:\n",
    "        team_points[at].append(team_points[at][-1] + AFTR_points[ftr]) \n",
    "    else:\n",
    "        team_points[at].append(AFTR_points[ftr])"
   ]
  },
  {
   "cell_type": "markdown",
   "metadata": {},
   "source": [
    "Print sub-set of the team_points data to check the data."
   ]
  },
  {
   "cell_type": "code",
   "execution_count": 113,
   "metadata": {
    "collapsed": false
   },
   "outputs": [
    {
     "name": "stdout",
     "output_type": "stream",
     "text": [
      "Team             Played   Cum Points (last 3)\n",
      "---------------  -------  --------------------\n",
      "Chelsea          33       [73, 76, 77]\n",
      "Man City         34       [61, 64, 67]\n",
      "Arsenal          33       [63, 66, 67]\n",
      "Man United       34       [65, 65, 65]\n",
      "Liverpool        33       [54, 57, 58]\n",
      "Tottenham        34       [54, 57, 58]\n",
      "Southampton      34       [56, 56, 57]\n",
      "Swansea          34       [47, 47, 50]\n",
      "Stoke            34       [43, 46, 47]\n",
      "West Ham         34       [43, 43, 44]\n",
      "Everton          34       [38, 41, 44]\n",
      "Crystal Palace   34       [42, 42, 42]\n",
      "West Brom        34       [33, 36, 37]\n",
      "Newcastle        34       [35, 35, 35]\n",
      "Aston Villa      34       [29, 32, 32]\n",
      "Leicester        33       [25, 28, 31]\n",
      "Hull             33       [28, 28, 31]\n",
      "Sunderland       33       [29, 29, 30]\n",
      "QPR              34       [26, 26, 27]\n",
      "Burnley          34       [26, 26, 26]\n"
     ]
    }
   ],
   "source": [
    "print \"{0:16} {1:<8} {2:<8}\".format('Team', 'Played', 'Cum Points (last 3)')\n",
    "print \"{0:16} {1:<8} {2:<8}\".format('---------------', '-------', '--------------------')\n",
    "for team, points_list in sorted(team_points.items(), key=lambda (k, v): v[-1], reverse=True):\n",
    "    print \"{0:16} {1:<8} {2:<8}\".format(team, len(points_list), points_list[-3:])"
   ]
  },
  {
   "cell_type": "markdown",
   "metadata": {},
   "source": [
    "Extract asummary of key data for the top 5 teams, using the (ordered) premier league table generated earlier."
   ]
  },
  {
   "cell_type": "code",
   "execution_count": 114,
   "metadata": {
    "collapsed": false
   },
   "outputs": [
    {
     "name": "stdout",
     "output_type": "stream",
     "text": [
      "[['Chelsea' 33L 77L]\n",
      " ['Man City' 34L 67L]\n",
      " ['Arsenal' 33L 67L]\n",
      " ['Man United' 34L 65L]\n",
      " ['Liverpool' 33L 58L]]\n"
     ]
    }
   ],
   "source": [
    "TOP_TEAM_COUNT = 5\n",
    "top_team_summary = PLtable[['Team', 'P', 'PTS']][0:TOP_TEAM_COUNT].values \n",
    "print top_team_summary"
   ]
  },
  {
   "cell_type": "markdown",
   "metadata": {},
   "source": [
    "Now, plot the graphs!"
   ]
  },
  {
   "cell_type": "code",
   "execution_count": 115,
   "metadata": {
    "collapsed": false
   },
   "outputs": [
    {
     "data": {
      "image/png": "[encoded data removed]",
      "text/plain": [
       "<matplotlib.figure.Figure at 0xe5f4160>"
      ]
     },
     "metadata": {},
     "output_type": "display_data"
    }
   ],
   "source": [
    "# define figure size\n",
    "FIG_SIZE = (12, 8)\n",
    "\n",
    "# create line styles to cycle\n",
    "lines = [\"-\",\"--\",\"-.\",\":\"]\n",
    "linecycler = cycle(lines)\n",
    "\n",
    "# calculate limits\n",
    "max_played = max(played for _team, played, _points in top_team_summary)\n",
    "max_points = max(points for _team, _played, points in top_team_summary)\n",
    "\n",
    "# plot\n",
    "fig = plt.figure(figsize=FIG_SIZE)\n",
    "                    \n",
    "for team, _played, _points in top_team_summary:\n",
    "    team_cum_points_list = team_points[team]\n",
    "    plt.plot(range(1, len(team_cum_points_list)+1), team_cum_points_list, \n",
    "             next(linecycler), label=team)\n",
    "\n",
    "plt.xticks(range(1, max_played+1))\n",
    "plt.yticks(range(0, max_points, 5))\n",
    "plt.xlabel('Match Number')\n",
    "plt.ylabel('Cumulative Points')\n",
    "plt.xlim(1, max_played+1)\n",
    "plt.ylim(0, max_points+1)\n",
    "plt.legend(loc='upper left')\n",
    "plt.title('Cumulative Points vs Match Number For Top 5 Teams \\n(at {})'.format(DATA_FILE_DATE), \n",
    "                                                                             fontsize=16, \n",
    "                                                                             fontweight='bold')\n",
    "plt.show()"
   ]
  },
  {
   "cell_type": "markdown",
   "metadata": {},
   "source": [
    "We can see that Man City caught Chelsea at match 20 and then fell away.\n",
    "\n",
    "We can also clearly see that Liverpool's poor start opened up a big gap."
   ]
  },
  {
   "cell_type": "markdown",
   "metadata": {
    "collapsed": true
   },
   "source": [
    "## Finally"
   ]
  },
  {
   "cell_type": "markdown",
   "metadata": {},
   "source": [
    "Hopefully you've got an insight in to just how powerful iPython Notebook, python and pandas can be."
   ]
  }
 ],
 "metadata": {
  "kernelspec": {
   "display_name": "Python 2",
   "language": "python",
   "name": "python2"
  },
  "language_info": {
   "codemirror_mode": {
    "name": "ipython",
    "version": 2
   },
   "file_extension": ".py",
   "mimetype": "text/x-python",
   "name": "python",
   "nbconvert_exporter": "python",
   "pygments_lexer": "ipython2",
   "version": "2.7.8"
  }
 },
 "nbformat": 4,
 "nbformat_minor": 0
}
